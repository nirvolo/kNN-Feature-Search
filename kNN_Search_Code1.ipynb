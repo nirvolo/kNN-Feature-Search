{
 "cells": [
  {
   "cell_type": "code",
   "execution_count": 1,
   "metadata": {
    "collapsed": true
   },
   "outputs": [],
   "source": [
    "import numpy as np\n",
    "import math\n",
    "import random as rand\n",
    "from numpy import linalg as LA"
   ]
  },
  {
   "cell_type": "code",
   "execution_count": 2,
   "metadata": {},
   "outputs": [
    {
     "data": {
      "text/plain": [
       "0"
      ]
     },
     "execution_count": 2,
     "metadata": {},
     "output_type": "execute_result"
    }
   ],
   "source": [
    "rand.seed()\n",
    "rand.randint(0,5)"
   ]
  },
  {
   "cell_type": "code",
   "execution_count": 3,
   "metadata": {
    "collapsed": true,
    "scrolled": false
   },
   "outputs": [],
   "source": [
    "#small_df = pd.read_csv('CS205_small_testdata__3.txt', sep=\"  \",header=None)\n",
    "#large_df = pd.read_csv('CS205_large_testdata__36.txt', sep=\"  \",header=None)\n",
    "\n",
    "small = np.loadtxt(\"CS205_small_testdata__3.txt\")\n",
    "large = np.loadtxt('CS205_large_testdata__36.txt')"
   ]
  },
  {
   "cell_type": "code",
   "execution_count": 4,
   "metadata": {
    "collapsed": true
   },
   "outputs": [],
   "source": [
    "# This is a testing stub to make sure that the search is working correctly\n",
    "def acc_class(ftr):\n",
    "    return(rand.randint(0,50))"
   ]
  },
  {
   "cell_type": "code",
   "execution_count": 6,
   "metadata": {},
   "outputs": [
    {
     "data": {
      "text/plain": [
       "10"
      ]
     },
     "execution_count": 6,
     "metadata": {},
     "output_type": "execute_result"
    }
   ],
   "source": [
    "acc_class(2)"
   ]
  },
  {
   "cell_type": "code",
   "execution_count": 6,
   "metadata": {
    "scrolled": true
   },
   "outputs": [
    {
     "name": "stdout",
     "output_type": "stream",
     "text": [
      "1\n",
      "2\n",
      "3\n",
      "4\n",
      "5\n",
      "6\n",
      "7\n",
      "8\n",
      "9\n",
      "10\n"
     ]
    }
   ],
   "source": [
    "for j in range(1,len(small[1,:])): print(j)"
   ]
  },
  {
   "cell_type": "code",
   "execution_count": 5,
   "metadata": {
    "collapsed": true
   },
   "outputs": [],
   "source": [
    "def ftr_search(mat):\n",
    "    # List to keep track of all the current features\n",
    "    crnt_ftr = []\n",
    "    levels_best = []\n",
    "    \n",
    "    # Each level of the search tree\n",
    "    for i in range(1,len(mat[1,:])):\n",
    "        # List to keep track of the added feature\n",
    "        add_ftr = -1\n",
    "        # Keeps track of the best accuracy\n",
    "        best_acc = -1\n",
    "        print(\"On the\", i, \"th level of the search tree\")\n",
    "        lvl_strt = time.time()\n",
    "        # At each level, we want to see which features we can add\n",
    "        for j in range(1,len(mat[1,:])):\n",
    "            #print(j)\n",
    "            #print(crnt_ftr)\n",
    "            # At each level, I want to test the accuracy of adding a certain feature\n",
    "            # but I don't want to consider a feature that's already included\n",
    "            if j not in crnt_ftr:\n",
    "                #print(\"  Considering adding the \", j, \"feature\")\n",
    "                # Calculate the accuracy for the given set of features\n",
    "                acc = knn(mat, crnt_ftr, j)\n",
    "                #acc = acc_class(j)\n",
    "                # Checking if we should add this feature based on how it compares\n",
    "                # to the best accuracy so far.\n",
    "                #print(best_acc,acc)\n",
    "                if acc > best_acc:\n",
    "                    best_acc = acc\n",
    "                    add_ftr = j # This is always updated when the accuracy is better.\n",
    "                #print(add_ftr)\n",
    "                \n",
    "        # After we check all the features that we can add at this level\n",
    "        # we want to make the current feature set is updated based on the best feature   \n",
    "        crnt_ftr.append(add_ftr) \n",
    "        # The best combination of features and its accuracy at the current level\n",
    "        levels_best.append((best_acc,crnt_ftr[:]))  # [:] is a copy of what is in the list now\n",
    "        #print(add_ftr)\n",
    "        print(\"*On level \", i, \"added feature\", add_ftr, \"to current set*\", \"time for level: \", time.time()-lvl_strt)\n",
    "        #print(crnt_ftr)\n",
    "        #print(crnt_ftr)\n",
    "        #print(len(set(crnt_ftr)))\n",
    "    return(levels_best)"
   ]
  },
  {
   "cell_type": "code",
   "execution_count": 6,
   "metadata": {
    "collapsed": true
   },
   "outputs": [],
   "source": [
    "# Creating a function that will perform kNN\n",
    "def knn(mat, crnt_set_, new_ftr):\n",
    "    '''\n",
    "    '''\n",
    "    # Keep track of accuracy\n",
    "    acc = 0\n",
    "    # The features that will be used for classification\n",
    "    crnt_set = crnt_set_[:]\n",
    "    crnt_set.append(new_ftr)\n",
    "    #print(crnt_set)\n",
    "  \n",
    "    # Leave one out cross validation for each of the observations\n",
    "    # with K = 1 nearest neighbors\n",
    "    for i in range(0,len(mat)):\n",
    "        # The observation to classify\n",
    "        obs = mat[i,crnt_set]\n",
    "        obs_label = mat[i,0]\n",
    "        # An initial value for the distance that will be updated\n",
    "        # if the distance at some iteration is smaller than the previous \n",
    "        # smallest distance.\n",
    "        nn_dist = 1000000\n",
    "        # Variable to keep track of the index that's closest to obs.\n",
    "        nn_ind = 0\n",
    "        # Now we compare each observation to the rest\n",
    "        for j in range(0,len(mat)):\n",
    "            # A check to make sure that the function is working properly\n",
    "            # print(\"Ask if\", i, \"is nearest neighbor with\", j)\n",
    "            if j != i: # don't compare observation to itself\n",
    "                #print(len(obs),len(mat[j,crnt_set]))\n",
    "                #print(obs, mat[j,crnt_set])\n",
    "                #dist = math.sqrt(sum(obs-mat[j,crnt_set])**2)\n",
    "                # Calculates the 2-norm for the difference which is the euclidean distance.\n",
    "                dist = LA.norm(obs-mat[j,crnt_set])\n",
    "                #print(dist,nn_dist)\n",
    "                if dist < nn_dist: # update label if this is true\n",
    "                    nn_dist = dist\n",
    "                    nn_ind = j\n",
    "                    label = mat[j,0] # the label of the closest observation\n",
    "                    \n",
    "        # After finding the best label, check whether it was classified correctly\n",
    "        if label == obs_label:\n",
    "            acc = acc + 1\n",
    "            \n",
    "    acc_rate = acc/len(mat)\n",
    "    return(acc_rate)"
   ]
  },
  {
   "cell_type": "code",
   "execution_count": 7,
   "metadata": {},
   "outputs": [
    {
     "data": {
      "text/plain": [
       "300"
      ]
     },
     "execution_count": 7,
     "metadata": {},
     "output_type": "execute_result"
    }
   ],
   "source": [
    "len(small)"
   ]
  },
  {
   "cell_type": "code",
   "execution_count": 22,
   "metadata": {
    "scrolled": false
   },
   "outputs": [
    {
     "name": "stdout",
     "output_type": "stream",
     "text": [
      "On the 1 th level of the search tree\n",
      "  Considering adding the  1 feature\n",
      "  Considering adding the  2 feature\n",
      "  Considering adding the  3 feature\n",
      "  Considering adding the  4 feature\n",
      "  Considering adding the  5 feature\n",
      "  Considering adding the  6 feature\n",
      "  Considering adding the  7 feature\n",
      "  Considering adding the  8 feature\n",
      "  Considering adding the  9 feature\n",
      "  Considering adding the  10 feature\n",
      "*On level  1 added feature 4 to current set*\n",
      "On the 2 th level of the search tree\n",
      "  Considering adding the  1 feature\n",
      "  Considering adding the  2 feature\n",
      "  Considering adding the  3 feature\n",
      "  Considering adding the  5 feature\n",
      "  Considering adding the  6 feature\n",
      "  Considering adding the  7 feature\n",
      "  Considering adding the  8 feature\n",
      "  Considering adding the  9 feature\n",
      "  Considering adding the  10 feature\n",
      "*On level  2 added feature 6 to current set*\n",
      "On the 3 th level of the search tree\n",
      "  Considering adding the  1 feature\n",
      "  Considering adding the  2 feature\n",
      "  Considering adding the  3 feature\n",
      "  Considering adding the  5 feature\n",
      "  Considering adding the  7 feature\n",
      "  Considering adding the  8 feature\n",
      "  Considering adding the  9 feature\n",
      "  Considering adding the  10 feature\n",
      "*On level  3 added feature 10 to current set*\n",
      "On the 4 th level of the search tree\n",
      "  Considering adding the  1 feature\n",
      "  Considering adding the  2 feature\n",
      "  Considering adding the  3 feature\n",
      "  Considering adding the  5 feature\n",
      "  Considering adding the  7 feature\n",
      "  Considering adding the  8 feature\n",
      "  Considering adding the  9 feature\n",
      "*On level  4 added feature 9 to current set*\n",
      "On the 5 th level of the search tree\n",
      "  Considering adding the  1 feature\n",
      "  Considering adding the  2 feature\n",
      "  Considering adding the  3 feature\n",
      "  Considering adding the  5 feature\n",
      "  Considering adding the  7 feature\n",
      "  Considering adding the  8 feature\n",
      "*On level  5 added feature 7 to current set*\n",
      "On the 6 th level of the search tree\n",
      "  Considering adding the  1 feature\n",
      "  Considering adding the  2 feature\n",
      "  Considering adding the  3 feature\n",
      "  Considering adding the  5 feature\n",
      "  Considering adding the  8 feature\n",
      "*On level  6 added feature 8 to current set*\n",
      "On the 7 th level of the search tree\n",
      "  Considering adding the  1 feature\n",
      "  Considering adding the  2 feature\n",
      "  Considering adding the  3 feature\n",
      "  Considering adding the  5 feature\n",
      "*On level  7 added feature 1 to current set*\n",
      "On the 8 th level of the search tree\n",
      "  Considering adding the  2 feature\n",
      "  Considering adding the  3 feature\n",
      "  Considering adding the  5 feature\n",
      "*On level  8 added feature 2 to current set*\n",
      "On the 9 th level of the search tree\n",
      "  Considering adding the  3 feature\n",
      "  Considering adding the  5 feature\n",
      "*On level  9 added feature 5 to current set*\n",
      "On the 10 th level of the search tree\n",
      "  Considering adding the  3 feature\n",
      "*On level  10 added feature 3 to current set*\n"
     ]
    },
    {
     "data": {
      "text/plain": [
       "[(0.84, [4]),\n",
       " (0.9466666666666667, [4, 6]),\n",
       " (0.9366666666666666, [4, 6, 10]),\n",
       " (0.92, [4, 6, 10, 9]),\n",
       " (0.8966666666666666, [4, 6, 10, 9, 7]),\n",
       " (0.8833333333333333, [4, 6, 10, 9, 7, 8]),\n",
       " (0.8333333333333334, [4, 6, 10, 9, 7, 8, 1]),\n",
       " (0.8033333333333333, [4, 6, 10, 9, 7, 8, 1, 2]),\n",
       " (0.7633333333333333, [4, 6, 10, 9, 7, 8, 1, 2, 5]),\n",
       " (0.7366666666666667, [4, 6, 10, 9, 7, 8, 1, 2, 5, 3])]"
      ]
     },
     "execution_count": 22,
     "metadata": {},
     "output_type": "execute_result"
    }
   ],
   "source": [
    "# Testing the ftr_search function with the small dataset\n",
    "ftr_search(small)"
   ]
  },
  {
   "cell_type": "code",
   "execution_count": null,
   "metadata": {
    "collapsed": true,
    "scrolled": true
   },
   "outputs": [],
   "source": [
    "import time\n",
    "start = time.time()\n",
    "print(start)\n",
    "# Testing the ftr_search function with the large dataset\n",
    "ftr_search(large)\n",
    "end = time.time()\n",
    "temp = end-start\n",
    "print(temp)\n",
    "hours = temp//3600\n",
    "temp = temp - 3600*hours\n",
    "minutes = temp//60\n",
    "seconds = temp - 60*minutes\n",
    "print('%d:%d:%d' %(hours,minutes,seconds))\n",
    "#print(\"--- %s seconds ---\" % (time.time() - start_time)/60)"
   ]
  },
  {
   "cell_type": "code",
   "execution_count": null,
   "metadata": {
    "collapsed": true
   },
   "outputs": [],
   "source": [
    "print(combs)\n",
    "combs.sort()   # Sort by the first element in the tuple first\n",
    "print(combs)\n"
   ]
  },
  {
   "cell_type": "code",
   "execution_count": null,
   "metadata": {
    "collapsed": true
   },
   "outputs": [],
   "source": []
  },
  {
   "cell_type": "code",
   "execution_count": 10,
   "metadata": {
    "collapsed": true
   },
   "outputs": [],
   "source": [
    "# Creating a function that will perform kNN\n",
    "def knn_lv1out(mat, crnt_set_, new_ftr):\n",
    "    '''\n",
    "    '''\n",
    "    # Keep track of accuracy\n",
    "    acc = 0\n",
    "    # The features that will be used for classification\n",
    "    crnt_set = crnt_set_[:]\n",
    "    crnt_set.append(new_ftr)\n",
    "    #print(crnt_set)\n",
    "  \n",
    "    # Leave one out cross validation for each of the observations\n",
    "    # with K = 1 nearest neighbors\n",
    "    for i in range(0,len(mat)):\n",
    "        # The observation to classify\n",
    "        obs = mat[i,crnt_set]\n",
    "        # An initial value for the distance that will be updated\n",
    "        # if the distance at some iteration is smaller than the previous \n",
    "        # smallest distance.\n",
    "        nn_dist = 1000000\n",
    "        # Variable to keep track of the index that's closest to obs.\n",
    "        nn_ind = 0\n",
    "        # Now we compare each observation to the rest\n",
    "#         print(obs.shape)\n",
    "#         print(mat[:,crnt_set].shape)\n",
    "#         print((obs-mat[:,crnt_set]).shape)\n",
    "        dist = LA.norm(obs-mat[:,crnt_set], axis=1)\n",
    "        ind=np.ones(dist.shape[0],bool); ind[i]=False;  #print(dist[ind].shape)\n",
    "#         closest_idx = np.argmin(dist[ind])\n",
    "#         print(dist.shape)\n",
    "#         print(dist[ind].shape)\n",
    "        dist[i] = np.inf\n",
    "        closest_idx = np.argmin(dist)\n",
    "#         print(dist.shape)\n",
    "#         print(dist[ind].shape)\n",
    "        if mat[i,0] == mat[closest_idx, 0]: acc += 1\n",
    "    return (acc/(len(mat)))"
   ]
  },
  {
   "cell_type": "code",
   "execution_count": 11,
   "metadata": {
    "scrolled": false
   },
   "outputs": [
    {
     "name": "stdout",
     "output_type": "stream",
     "text": [
      "58.7 ms ± 20 ms per loop (mean ± std. dev. of 7 runs, 1 loop each)\n"
     ]
    }
   ],
   "source": [
    "%timeit -n 1 np.min(knn_lv1out(large, [], 249))"
   ]
  },
  {
   "cell_type": "code",
   "execution_count": 122,
   "metadata": {},
   "outputs": [
    {
     "name": "stdout",
     "output_type": "stream",
     "text": [
      "1.2 s ± 93 ms per loop (mean ± std. dev. of 7 runs, 1 loop each)\n"
     ]
    }
   ],
   "source": [
    "%timeit -n 1 knn(small, [3, 6, 10, 6], 1)"
   ]
  },
  {
   "cell_type": "code",
   "execution_count": 20,
   "metadata": {},
   "outputs": [
    {
     "data": {
      "text/plain": [
       "(300, 11)"
      ]
     },
     "execution_count": 20,
     "metadata": {},
     "output_type": "execute_result"
    }
   ],
   "source": [
    "small.shape"
   ]
  },
  {
   "cell_type": "code",
   "execution_count": 124,
   "metadata": {
    "collapsed": true
   },
   "outputs": [],
   "source": [
    "# Creating a function that will perform kNN\n",
    "def knn_lv1out2(mat, crnt_set_, new_ftr):\n",
    "    '''\n",
    "    '''\n",
    "    acc = 0\n",
    "    # The features that will be used for classification\n",
    "    crnt_set = crnt_set_[:]\n",
    "    crnt_set.append(new_ftr)\n",
    "    dist_mat = np.zeros((len(mat), len(mat)))\n",
    "    np.fill_diagonal(dist_mat, np.inf)\n",
    "#     print(dist_mat)\n",
    "  \n",
    "    for i in range(0,len(mat)):\n",
    "        obs = mat[i,crnt_set]    # The observation to classify\n",
    "        dist_mat[i+1:, i] = LA.norm(obs-mat[i+1:,crnt_set], axis=1)\n",
    "#         ind=np.ones(dist.shape[0],bool); ind[i]=False;  #print(dist[ind].shape)\n",
    "#         closest_idx = np.argmin(dist[ind])\n",
    "#         if mat[i,0] == mat[closest_idx, 0]: acc += 1\n",
    "    dist = dist_mat+dist_mat.T\n",
    "    closest_idcs = np.argmin(dist, axis=1)\n",
    "#     print(dist)\n",
    "#     print(closest_idcs)\n",
    "#     print(mat[closest_idcs,0])\n",
    "#     print(mat[:,0]==mat[closest_idcs,0])\n",
    "    acc = np.count_nonzero(mat[:,0]==mat[closest_idcs,0])\n",
    "    return (acc/(len(mat)))"
   ]
  },
  {
   "cell_type": "code",
   "execution_count": 12,
   "metadata": {},
   "outputs": [
    {
     "data": {
      "text/plain": [
       "0.6933333333333334"
      ]
     },
     "execution_count": 12,
     "metadata": {},
     "output_type": "execute_result"
    }
   ],
   "source": [
    "knn_lv1out(small, [], 1)"
   ]
  },
  {
   "cell_type": "code",
   "execution_count": 13,
   "metadata": {},
   "outputs": [
    {
     "data": {
      "text/plain": [
       "0.6933333333333334"
      ]
     },
     "execution_count": 13,
     "metadata": {},
     "output_type": "execute_result"
    }
   ],
   "source": [
    "knn_lv1out(small, [], 1)"
   ]
  },
  {
   "cell_type": "code",
   "execution_count": 14,
   "metadata": {
    "scrolled": false
   },
   "outputs": [
    {
     "data": {
      "text/plain": [
       "0.6933333333333334"
      ]
     },
     "execution_count": 14,
     "metadata": {},
     "output_type": "execute_result"
    }
   ],
   "source": [
    "knn(small, [], 1)"
   ]
  },
  {
   "cell_type": "code",
   "execution_count": 127,
   "metadata": {},
   "outputs": [
    {
     "data": {
      "text/plain": [
       "0.6933333333333334"
      ]
     },
     "execution_count": 127,
     "metadata": {},
     "output_type": "execute_result"
    }
   ],
   "source": [
    "knn(small, [], 1)"
   ]
  },
  {
   "cell_type": "code",
   "execution_count": 160,
   "metadata": {},
   "outputs": [
    {
     "name": "stdout",
     "output_type": "stream",
     "text": [
      "8.58 ms ± 1.41 ms per loop (mean ± std. dev. of 7 runs, 10 loops each)\n",
      "5.56 ms ± 947 µs per loop (mean ± std. dev. of 7 runs, 10 loops each)\n"
     ]
    }
   ],
   "source": [
    "skip = 1\n",
    "%timeit -n 10 np.min(knn_lv1out(large[[i for i in range(0, 200,skip)],:], [], 1))\n",
    "%timeit -n 10 np.min(knn_lv1out2(large[[i for i in range(0,200,skip)],:], [], 1))"
   ]
  },
  {
   "cell_type": "code",
   "execution_count": 150,
   "metadata": {},
   "outputs": [
    {
     "name": "stdout",
     "output_type": "stream",
     "text": [
      "7.36 ms ± 1.3 ms per loop (mean ± std. dev. of 7 runs, 3 loops each)\n"
     ]
    }
   ],
   "source": [
    "%timeit -n 3 np.min(knn_lv1out2(large[[i for i in range(0,200,1)],:], [], 1))"
   ]
  },
  {
   "cell_type": "code",
   "execution_count": null,
   "metadata": {
    "collapsed": true
   },
   "outputs": [],
   "source": []
  }
 ],
 "metadata": {
  "kernelspec": {
   "display_name": "Python 3",
   "language": "python",
   "name": "python3"
  },
  "language_info": {
   "codemirror_mode": {
    "name": "ipython",
    "version": 3
   },
   "file_extension": ".py",
   "mimetype": "text/x-python",
   "name": "python",
   "nbconvert_exporter": "python",
   "pygments_lexer": "ipython3",
   "version": "3.6.10"
  }
 },
 "nbformat": 4,
 "nbformat_minor": 2
}
