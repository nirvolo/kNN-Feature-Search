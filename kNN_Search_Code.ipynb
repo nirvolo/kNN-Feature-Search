{
 "cells": [
  {
   "cell_type": "code",
   "execution_count": 7,
   "metadata": {
    "collapsed": true
   },
   "outputs": [],
   "source": [
    "import numpy as np\n",
    "import math\n",
    "import random as rand\n",
    "import time\n",
    "import datetime\n",
    "# import sklearn\n",
    "from numpy import linalg as LA\n",
    "# from sklearn import preprocessing"
   ]
  },
  {
   "cell_type": "code",
   "execution_count": 15,
   "metadata": {
    "collapsed": true
   },
   "outputs": [],
   "source": [
    "small = np.loadtxt(\"CS205_small_testdata__3.txt\")\n",
    "large = np.loadtxt('CS205_large_testdata__36.txt')\n",
    "small_scaled = (small-np.amin(small, axis=0))/(np.amax(small, axis=0)-np.amin(small,axis=0))\n",
    "large_scaled = (large-np.amin(large, axis=0))/(np.amax(large, axis=0)-np.amin(large,axis=0))"
   ]
  },
  {
   "cell_type": "code",
   "execution_count": 16,
   "metadata": {
    "collapsed": true
   },
   "outputs": [],
   "source": [
    "# Creating a function that will perform kNN\n",
    "def knn(mat, crnt_set_, new_ftr, add = True):\n",
    "    '''Compute accuracy of knn with k=1 for the given set of features\n",
    "    '''\n",
    "    acc = 0\n",
    "    # Deep copy not to midfy the object in the calling function\n",
    "    crnt_set = crnt_set_[:]\n",
    "    # Add or remove feature to the set depending whether forward or backward selection is used\n",
    "    # For backward the first iteration does not remove anything which is controlled by providing\n",
    "    # None for the new_ftr\n",
    "    if new_ftr is not None:\n",
    "        if add: \n",
    "            crnt_set.append(new_ftr)\n",
    "        else:\n",
    "            crnt_set.remove(new_ftr)\n",
    "    \n",
    "    # Recognizing that distance between row j and k is the same as between k and j allow to save \n",
    "    # computation and for each row compute distance from all the rows below it\n",
    "    dist_mat = np.zeros((len(mat), len(mat)))\n",
    "    np.fill_diagonal(dist_mat, np.inf)   # In order to ignore distance to itself being the minimum\n",
    "  \n",
    "    for i in range(0,len(mat)):\n",
    "        obs = mat[i,crnt_set]    # The observation to classify\n",
    "        # Compute distance from current row to all rows below it\n",
    "        dist_mat[i+1:, i] = LA.norm(obs-mat[i+1:,crnt_set], axis=1)\n",
    "    # Get the full distance matrix by adding to it its transpose due to symmetry\n",
    "    dist = dist_mat+dist_mat.T\n",
    "    closest_idcs = np.argmin(dist, axis=1)  # Get index of lowest distance for each row\n",
    "    # Compute accuracy by counting the number of labels that are the same as the lowest distance label\n",
    "    acc = np.count_nonzero(mat[:,0]==mat[closest_idcs,0])\n",
    "    return (acc/(len(mat)))"
   ]
  },
  {
   "cell_type": "code",
   "execution_count": 17,
   "metadata": {
    "collapsed": true
   },
   "outputs": [],
   "source": [
    "def fwd_ftr_search(mat):\n",
    "    # List to keep track of all the current features\n",
    "    crnt_ftr = []\n",
    "    levels_best = []\n",
    "    \n",
    "    # Each level of the search tree\n",
    "    for i in range(1,len(mat[1,:])):\n",
    "        start = time.time()\n",
    "        # List to keep track of the added feature\n",
    "        add_ftr = -1\n",
    "        # Keeps track of the best accuracy\n",
    "        best_acc = -1\n",
    "        print(\"On the\", i, \"th level of the search tree\")\n",
    "        \n",
    "        # At each level, we want to see which features we can add\n",
    "        for j in range(1,len(mat[1,:])):\n",
    "            #print(j)\n",
    "            #print(crnt_ftr)\n",
    "            # At each level, I want to test the accuracy of adding a certain feature\n",
    "            # but I don't want to consider a feature that's already included\n",
    "            if j not in crnt_ftr:\n",
    "                #print(\"  Considering adding the \", j, \"feature\")\n",
    "                # Calculate the accuracy for the given set of features\n",
    "                acc = knn(mat, crnt_ftr, j, add=True)  # Direct knn function to add feature to the list\n",
    "                #acc = acc_class(j)\n",
    "                # Checking if we should add this feature based on how it compares\n",
    "                # to the best accuracy so far.\n",
    "                #print(best_acc,acc)\n",
    "                if acc > best_acc:\n",
    "                    best_acc = acc\n",
    "                    add_ftr = j # This is always updated when the accuracy is better.\n",
    "                #print(add_ftr)\n",
    "                \n",
    "        # After we check all the features that we can add at this level\n",
    "        # we want to make the current feature set is updated based on the best feature   \n",
    "        crnt_ftr.append(add_ftr) \n",
    "        # The best combination of features and its accuracy at the current level\n",
    "        levels_best.append((best_acc,crnt_ftr[:]))  # [:] is a copy of what is in the list now\n",
    "        #print(add_ftr)\n",
    "        print(\"*On level \", i, \"added feature\", add_ftr, \"to current set*\", \"accuracy\", best_acc, \"time for level is\", \n",
    "              round(time.time() - start,3))\n",
    "        #print(crnt_ftr)\n",
    "        #print(crnt_ftr)\n",
    "        #print(len(set(crnt_ftr)))\n",
    "    return(levels_best)"
   ]
  },
  {
   "cell_type": "code",
   "execution_count": 21,
   "metadata": {
    "scrolled": false
   },
   "outputs": [
    {
     "name": "stdout",
     "output_type": "stream",
     "text": [
      "21:23:16.656653\n",
      "On the 1 th level of the search tree\n",
      "*On level  1 added feature 4 to current set* accuracy 0.84 time for level is 0.128\n",
      "On the 2 th level of the search tree\n",
      "*On level  2 added feature 6 to current set* accuracy 0.9466666666666667 time for level is 0.086\n",
      "On the 3 th level of the search tree\n",
      "*On level  3 added feature 10 to current set* accuracy 0.9366666666666666 time for level is 0.111\n",
      "On the 4 th level of the search tree\n",
      "*On level  4 added feature 9 to current set* accuracy 0.92 time for level is 0.068\n",
      "On the 5 th level of the search tree\n",
      "*On level  5 added feature 7 to current set* accuracy 0.8966666666666666 time for level is 0.058\n",
      "On the 6 th level of the search tree\n",
      "*On level  6 added feature 8 to current set* accuracy 0.8833333333333333 time for level is 0.05\n",
      "On the 7 th level of the search tree\n",
      "*On level  7 added feature 1 to current set* accuracy 0.8333333333333334 time for level is 0.055\n",
      "On the 8 th level of the search tree\n",
      "*On level  8 added feature 2 to current set* accuracy 0.8033333333333333 time for level is 0.04\n",
      "On the 9 th level of the search tree\n",
      "*On level  9 added feature 5 to current set* accuracy 0.7633333333333333 time for level is 0.025\n",
      "On the 10 th level of the search tree\n",
      "*On level  10 added feature 3 to current set* accuracy 0.7366666666666667 time for level is 0.014\n",
      "0.6428892612457275\n",
      "0:0:0\n",
      "--- 0.6435 seconds ---\n",
      "21:23:17.301220\n"
     ]
    }
   ],
   "source": [
    "##### Forward Selection with Small Dataset #######\n",
    "print(datetime.datetime.now().time())\n",
    "start = time.time()\n",
    "# Testing the ftr_search function with the large dataset\n",
    "acc_small_fwd = fwd_ftr_search(small)\n",
    "end = time.time()\n",
    "temp = end-start\n",
    "print(temp)\n",
    "hours = temp//3600\n",
    "temp = temp - 3600*hours\n",
    "minutes = temp//60\n",
    "seconds = temp - 60*minutes\n",
    "print('%d:%d:%d' %(hours,minutes,seconds))\n",
    "print(f\"--- {(time.time() - start):.4f} seconds ---\")\n",
    "print(datetime.datetime.now().time())"
   ]
  },
  {
   "cell_type": "code",
   "execution_count": 19,
   "metadata": {
    "scrolled": false
   },
   "outputs": [
    {
     "name": "stdout",
     "output_type": "stream",
     "text": [
      "21:19:42.214794\n",
      "4.1961669921875e-05\n",
      "0:0:0\n",
      "--- 0.0000 minutes ---\n",
      "21:19:42.216210\n"
     ]
    }
   ],
   "source": [
    "##### Forward Selection with Large Dataset #######\n",
    "print(datetime.datetime.now().time())\n",
    "start = time.time()\n",
    "# Testing the ftr_search function with the large dataset\n",
    "#acc_large_fwd = fwd_ftr_search(large_scaled)\n",
    "end = time.time()\n",
    "temp = end-start\n",
    "print(temp)\n",
    "hours = temp//3600\n",
    "temp = temp - 3600*hours\n",
    "minutes = temp//60\n",
    "seconds = temp - 60*minutes\n",
    "print('%d:%d:%d' %(hours,minutes,seconds))\n",
    "print(f\"--- {(time.time() - start)/60:.4f} minutes ---\")\n",
    "print(datetime.datetime.now().time())"
   ]
  },
  {
   "cell_type": "code",
   "execution_count": 23,
   "metadata": {
    "collapsed": true
   },
   "outputs": [],
   "source": [
    "def backward_ftr_search(mat):\n",
    "    # List to keep track of all the current features\n",
    "    crnt_ftr = [i for i in range(1,len(mat[1,:]))]\n",
    "    levels_best = []\n",
    "    \n",
    "    # The accuracy with all possible features. Direct knn function to not remove anything from the feature list\n",
    "    # in this case by setting new_ftr argument to None\n",
    "    init_acc = knn(mat,crnt_ftr,None, add = False)\n",
    "    levels_best.append((init_acc, crnt_ftr))\n",
    "    print(f\"With all features accuracy {init_acc}\")\n",
    "     \n",
    "    # Not removing the last feature so we have initial level with all features, plus \n",
    "    # P-1 levels, where P is number of features\n",
    "    for i in range(1,len(mat[1,:])-1):\n",
    "        start = time.time()\n",
    "        # On the first level, we want the least accuracy to \n",
    "        # be the initial accuracy that we c\n",
    "        # List to keep track of the removed feature\n",
    "        rmv_ftr = -1\n",
    "        # Keeps track of the best accuracy\n",
    "        best_acc = -1\n",
    "        print(\"On the\", i, \"th level of the search tree\")\n",
    "        \n",
    "        # At each level, we want to see which feature we can remove\n",
    "        for j in range(1,len(mat[1,:])):\n",
    "            # At each level, I want to test the accuracy of adding a certain feature\n",
    "            # but I don't want to consider a feature that's already included\n",
    "            if j in crnt_ftr:\n",
    "#                 print(\"  Considering removing the \", j, \"feature\")\n",
    "                # Calculate the accuracy for the given set of features\n",
    "                acc = knn(mat, crnt_ftr, j, add = False)  # Direct knn function to remove feature from the list\n",
    "                #acc = acc_class(j)\n",
    "                # Checking if we should remove this feature based on how it compares\n",
    "                # to the best accuracy so far.\n",
    "                #print(best_acc,acc)\n",
    "                if acc > best_acc:\n",
    "                    best_acc = acc\n",
    "                    rmv_ftr = j # This is always updated when the accuracy is worse.\n",
    "                #print(add_ftr)\n",
    "                \n",
    "        # After we check all the features that we can remove at this level\n",
    "        # we want to make the current feature set is updated based on the removal of \n",
    "        # the worst feature   \n",
    "        crnt_ftr.remove(rmv_ftr) \n",
    "        # The best combination of features and its accuracy at the current level\n",
    "        levels_best.append((best_acc,crnt_ftr[:]))  # [:] is a copy of what is in the list now\n",
    "#         print(crnt_ftr)\n",
    "        print(\"*On level \", i, \"removed feature\",rmv_ftr, \"to current set*\", \"accuracy\", best_acc, \"time for level is\", \n",
    "              round(time.time() - start,3))\n",
    "        #print(crnt_ftr)\n",
    "        #print(crnt_ftr)\n",
    "        #print(len(set(crnt_ftr)))\n",
    "    return(levels_best)"
   ]
  },
  {
   "cell_type": "code",
   "execution_count": 25,
   "metadata": {},
   "outputs": [
    {
     "name": "stdout",
     "output_type": "stream",
     "text": [
      "21:25:54.205281\n",
      "With all features accuracy 0.7266666666666667\n",
      "On the 1 th level of the search tree\n",
      "*On level  1 removed feature 8 to current set* accuracy 0.7866666666666666 time for level is 0.148\n",
      "On the 2 th level of the search tree\n",
      "*On level  2 removed feature 5 to current set* accuracy 0.8133333333333334 time for level is 0.093\n",
      "On the 3 th level of the search tree\n",
      "*On level  3 removed feature 1 to current set* accuracy 0.8133333333333334 time for level is 0.104\n",
      "On the 4 th level of the search tree\n",
      "*On level  4 removed feature 2 to current set* accuracy 0.8533333333333334 time for level is 0.071\n",
      "On the 5 th level of the search tree\n",
      "*On level  5 removed feature 3 to current set* accuracy 0.8866666666666667 time for level is 0.07\n",
      "On the 6 th level of the search tree\n",
      "*On level  6 removed feature 7 to current set* accuracy 0.9166666666666666 time for level is 0.057\n",
      "On the 7 th level of the search tree\n",
      "*On level  7 removed feature 9 to current set* accuracy 0.9366666666666666 time for level is 0.04\n",
      "On the 8 th level of the search tree\n",
      "*On level  8 removed feature 10 to current set* accuracy 0.95 time for level is 0.036\n",
      "On the 9 th level of the search tree\n",
      "*On level  9 removed feature 6 to current set* accuracy 0.84 time for level is 0.025\n",
      "0.6695239543914795\n",
      "0:0:0\n",
      "--- 0.0112 minutes ---\n",
      "21:25:54.876476\n"
     ]
    }
   ],
   "source": [
    "##### Backward Elimination with Small Dataset #######\n",
    "\n",
    "print(datetime.datetime.now().time())\n",
    "start = time.time()\n",
    "# Testing the ftr_search function with the large dataset\n",
    "acc_small_bwd = backward_ftr_search(small_scaled)\n",
    "end = time.time()\n",
    "temp = end-start\n",
    "print(temp)\n",
    "hours = temp//3600\n",
    "temp = temp - 3600*hours\n",
    "minutes = temp//60\n",
    "seconds = temp - 60*minutes\n",
    "print('%d:%d:%d' %(hours,minutes,seconds))\n",
    "print(f\"--- {(time.time() - start)/60:.4f} minutes ---\")\n",
    "print(datetime.datetime.now().time())"
   ]
  },
  {
   "cell_type": "code",
   "execution_count": 9,
   "metadata": {
    "scrolled": false
   },
   "outputs": [
    {
     "name": "stdout",
     "output_type": "stream",
     "text": [
      "21:17:20.798221\n",
      "9.393692016601562e-05\n",
      "0:0:0\n",
      "--- 0.0000 minutes ---\n",
      "21:17:20.803023\n"
     ]
    }
   ],
   "source": [
    "##### Backward Elimination with Large Dataset #######\n",
    "print(datetime.datetime.now().time())\n",
    "start = time.time()\n",
    "# Testing the ftr_search function with the large dataset\n",
    "#acc_large_bwd = backward_ftr_search(large_scaled)\n",
    "end = time.time()\n",
    "temp = end-start\n",
    "print(temp)\n",
    "hours = temp//3600\n",
    "temp = temp - 3600*hours\n",
    "minutes = temp//60\n",
    "seconds = temp - 60*minutes\n",
    "print('%d:%d:%d' %(hours,minutes,seconds))\n",
    "print(f\"--- {(time.time() - start)/60:.4f} minutes ---\")\n",
    "print(datetime.datetime.now().time())"
   ]
  },
  {
   "cell_type": "code",
   "execution_count": 55,
   "metadata": {},
   "outputs": [],
   "source": [
    "# Creating a user interface so that the user can choose \n",
    "# which search algorithm to use and which dataset to use.\n",
    "def main():\n",
    "    # Asking the user for a data file \n",
    "    file = input(\"This is a Feature Selection Algorithm for the kNN classification method.\\\n",
    "          \\n Please type in the name of the file you want to test:\")\n",
    "    \n",
    "    # Testing to make sure the file can be loaded\n",
    "    try:\n",
    "        mat = np.loadtxt(file)\n",
    "    except:\n",
    "        print(\"Please enter a valid file\")\n",
    "    \n",
    "    # Placeholder for search algo to start while loop\n",
    "    search = 0\n",
    "    # Making sure user enter's valid search algorithm\n",
    "    while search != 1 or search != 2:\n",
    "        # Asking the user which algorithm they want to use\n",
    "        search = int(input(\"Enter the search algorithm you want to use: (1) Forward Selection (2) Backward Elimination:\"))\n",
    "        print(search)\n",
    "    # Run kNN with the corresponding search algorithm\n",
    "    #if search == 1: # forward \n",
    "    #    fwd_acc = fwd_ftr_search(mat)\n",
    "    #else: # backward\n",
    "     #   bwd_acc = fwd_ftr_search(mat)"
   ]
  },
  {
   "cell_type": "code",
   "execution_count": 56,
   "metadata": {},
   "outputs": [
    {
     "name": "stdout",
     "output_type": "stream",
     "text": [
      "This is a Feature Selection Algorithm for the kNN classification method.          \n",
      " Please type in the name of the file you want to test:CS205_small_testdata__3.txt\n",
      "Enter the search algorithm you want to use: (1) Forward Selection (2) Backward Elimination:1\n",
      "1\n"
     ]
    },
    {
     "ename": "KeyboardInterrupt",
     "evalue": "",
     "output_type": "error",
     "traceback": [
      "\u001b[0;31m---------------------------------------------------------------------------\u001b[0m",
      "\u001b[0;31mKeyboardInterrupt\u001b[0m                         Traceback (most recent call last)",
      "\u001b[0;32m~/anaconda3/lib/python3.6/site-packages/ipykernel/kernelbase.py\u001b[0m in \u001b[0;36m_input_request\u001b[0;34m(self, prompt, ident, parent, password)\u001b[0m\n\u001b[1;32m    729\u001b[0m             \u001b[0;32mtry\u001b[0m\u001b[0;34m:\u001b[0m\u001b[0;34m\u001b[0m\u001b[0;34m\u001b[0m\u001b[0m\n\u001b[0;32m--> 730\u001b[0;31m                 \u001b[0mident\u001b[0m\u001b[0;34m,\u001b[0m \u001b[0mreply\u001b[0m \u001b[0;34m=\u001b[0m \u001b[0mself\u001b[0m\u001b[0;34m.\u001b[0m\u001b[0msession\u001b[0m\u001b[0;34m.\u001b[0m\u001b[0mrecv\u001b[0m\u001b[0;34m(\u001b[0m\u001b[0mself\u001b[0m\u001b[0;34m.\u001b[0m\u001b[0mstdin_socket\u001b[0m\u001b[0;34m,\u001b[0m \u001b[0;36m0\u001b[0m\u001b[0;34m)\u001b[0m\u001b[0;34m\u001b[0m\u001b[0;34m\u001b[0m\u001b[0m\n\u001b[0m\u001b[1;32m    731\u001b[0m             \u001b[0;32mexcept\u001b[0m \u001b[0mException\u001b[0m\u001b[0;34m:\u001b[0m\u001b[0;34m\u001b[0m\u001b[0;34m\u001b[0m\u001b[0m\n",
      "\u001b[0;32m~/anaconda3/lib/python3.6/site-packages/jupyter_client/session.py\u001b[0m in \u001b[0;36mrecv\u001b[0;34m(self, socket, mode, content, copy)\u001b[0m\n\u001b[1;32m    795\u001b[0m         \u001b[0;32mtry\u001b[0m\u001b[0;34m:\u001b[0m\u001b[0;34m\u001b[0m\u001b[0;34m\u001b[0m\u001b[0m\n\u001b[0;32m--> 796\u001b[0;31m             \u001b[0mmsg_list\u001b[0m \u001b[0;34m=\u001b[0m \u001b[0msocket\u001b[0m\u001b[0;34m.\u001b[0m\u001b[0mrecv_multipart\u001b[0m\u001b[0;34m(\u001b[0m\u001b[0mmode\u001b[0m\u001b[0;34m,\u001b[0m \u001b[0mcopy\u001b[0m\u001b[0;34m=\u001b[0m\u001b[0mcopy\u001b[0m\u001b[0;34m)\u001b[0m\u001b[0;34m\u001b[0m\u001b[0;34m\u001b[0m\u001b[0m\n\u001b[0m\u001b[1;32m    797\u001b[0m         \u001b[0;32mexcept\u001b[0m \u001b[0mzmq\u001b[0m\u001b[0;34m.\u001b[0m\u001b[0mZMQError\u001b[0m \u001b[0;32mas\u001b[0m \u001b[0me\u001b[0m\u001b[0;34m:\u001b[0m\u001b[0;34m\u001b[0m\u001b[0;34m\u001b[0m\u001b[0m\n",
      "\u001b[0;32m~/anaconda3/lib/python3.6/site-packages/zmq/sugar/socket.py\u001b[0m in \u001b[0;36mrecv_multipart\u001b[0;34m(self, flags, copy, track)\u001b[0m\n\u001b[1;32m    394\u001b[0m         \"\"\"\n\u001b[0;32m--> 395\u001b[0;31m         \u001b[0mparts\u001b[0m \u001b[0;34m=\u001b[0m \u001b[0;34m[\u001b[0m\u001b[0mself\u001b[0m\u001b[0;34m.\u001b[0m\u001b[0mrecv\u001b[0m\u001b[0;34m(\u001b[0m\u001b[0mflags\u001b[0m\u001b[0;34m,\u001b[0m \u001b[0mcopy\u001b[0m\u001b[0;34m=\u001b[0m\u001b[0mcopy\u001b[0m\u001b[0;34m,\u001b[0m \u001b[0mtrack\u001b[0m\u001b[0;34m=\u001b[0m\u001b[0mtrack\u001b[0m\u001b[0;34m)\u001b[0m\u001b[0;34m]\u001b[0m\u001b[0;34m\u001b[0m\u001b[0;34m\u001b[0m\u001b[0m\n\u001b[0m\u001b[1;32m    396\u001b[0m         \u001b[0;31m# have first part already, only loop while more to receive\u001b[0m\u001b[0;34m\u001b[0m\u001b[0;34m\u001b[0m\u001b[0;34m\u001b[0m\u001b[0m\n",
      "\u001b[0;32mzmq/backend/cython/socket.pyx\u001b[0m in \u001b[0;36mzmq.backend.cython.socket.Socket.recv (zmq/backend/cython/socket.c:7683)\u001b[0;34m()\u001b[0m\n",
      "\u001b[0;32mzmq/backend/cython/socket.pyx\u001b[0m in \u001b[0;36mzmq.backend.cython.socket.Socket.recv (zmq/backend/cython/socket.c:7460)\u001b[0;34m()\u001b[0m\n",
      "\u001b[0;32mzmq/backend/cython/socket.pyx\u001b[0m in \u001b[0;36mzmq.backend.cython.socket._recv_copy (zmq/backend/cython/socket.c:2344)\u001b[0;34m()\u001b[0m\n",
      "\u001b[0;32m~/anaconda3/lib/python3.6/site-packages/zmq/backend/cython/checkrc.pxd\u001b[0m in \u001b[0;36mzmq.backend.cython.checkrc._check_rc (zmq/backend/cython/socket.c:9621)\u001b[0;34m()\u001b[0m\n",
      "\u001b[0;31mKeyboardInterrupt\u001b[0m: ",
      "\nDuring handling of the above exception, another exception occurred:\n",
      "\u001b[0;31mKeyboardInterrupt\u001b[0m                         Traceback (most recent call last)",
      "\u001b[0;32m<ipython-input-56-58ca95c5b364>\u001b[0m in \u001b[0;36m<module>\u001b[0;34m()\u001b[0m\n\u001b[0;32m----> 1\u001b[0;31m \u001b[0mmain\u001b[0m\u001b[0;34m(\u001b[0m\u001b[0;34m)\u001b[0m\u001b[0;34m\u001b[0m\u001b[0;34m\u001b[0m\u001b[0m\n\u001b[0m",
      "\u001b[0;32m<ipython-input-55-9420546a2a72>\u001b[0m in \u001b[0;36mmain\u001b[0;34m()\u001b[0m\n\u001b[1;32m     16\u001b[0m     \u001b[0;32mwhile\u001b[0m \u001b[0msearch\u001b[0m \u001b[0;34m!=\u001b[0m \u001b[0;36m1\u001b[0m \u001b[0;32mor\u001b[0m \u001b[0msearch\u001b[0m \u001b[0;34m!=\u001b[0m \u001b[0;36m2\u001b[0m\u001b[0;34m:\u001b[0m\u001b[0;34m\u001b[0m\u001b[0;34m\u001b[0m\u001b[0m\n\u001b[1;32m     17\u001b[0m         \u001b[0;31m# Asking the user which algorithm they want to use\u001b[0m\u001b[0;34m\u001b[0m\u001b[0;34m\u001b[0m\u001b[0;34m\u001b[0m\u001b[0m\n\u001b[0;32m---> 18\u001b[0;31m         \u001b[0msearch\u001b[0m \u001b[0;34m=\u001b[0m \u001b[0mint\u001b[0m\u001b[0;34m(\u001b[0m\u001b[0minput\u001b[0m\u001b[0;34m(\u001b[0m\u001b[0;34m\"Enter the search algorithm you want to use: (1) Forward Selection (2) Backward Elimination:\"\u001b[0m\u001b[0;34m)\u001b[0m\u001b[0;34m)\u001b[0m\u001b[0;34m\u001b[0m\u001b[0;34m\u001b[0m\u001b[0m\n\u001b[0m\u001b[1;32m     19\u001b[0m         \u001b[0mprint\u001b[0m\u001b[0;34m(\u001b[0m\u001b[0msearch\u001b[0m\u001b[0;34m)\u001b[0m\u001b[0;34m\u001b[0m\u001b[0;34m\u001b[0m\u001b[0m\n\u001b[1;32m     20\u001b[0m     \u001b[0;31m# Run kNN with the corresponding search algorithm\u001b[0m\u001b[0;34m\u001b[0m\u001b[0;34m\u001b[0m\u001b[0;34m\u001b[0m\u001b[0m\n",
      "\u001b[0;32m~/anaconda3/lib/python3.6/site-packages/ipykernel/kernelbase.py\u001b[0m in \u001b[0;36mraw_input\u001b[0;34m(self, prompt)\u001b[0m\n\u001b[1;32m    703\u001b[0m             \u001b[0mself\u001b[0m\u001b[0;34m.\u001b[0m\u001b[0m_parent_ident\u001b[0m\u001b[0;34m,\u001b[0m\u001b[0;34m\u001b[0m\u001b[0;34m\u001b[0m\u001b[0m\n\u001b[1;32m    704\u001b[0m             \u001b[0mself\u001b[0m\u001b[0;34m.\u001b[0m\u001b[0m_parent_header\u001b[0m\u001b[0;34m,\u001b[0m\u001b[0;34m\u001b[0m\u001b[0;34m\u001b[0m\u001b[0m\n\u001b[0;32m--> 705\u001b[0;31m             \u001b[0mpassword\u001b[0m\u001b[0;34m=\u001b[0m\u001b[0;32mFalse\u001b[0m\u001b[0;34m,\u001b[0m\u001b[0;34m\u001b[0m\u001b[0;34m\u001b[0m\u001b[0m\n\u001b[0m\u001b[1;32m    706\u001b[0m         )\n\u001b[1;32m    707\u001b[0m \u001b[0;34m\u001b[0m\u001b[0m\n",
      "\u001b[0;32m~/anaconda3/lib/python3.6/site-packages/ipykernel/kernelbase.py\u001b[0m in \u001b[0;36m_input_request\u001b[0;34m(self, prompt, ident, parent, password)\u001b[0m\n\u001b[1;32m    733\u001b[0m             \u001b[0;32mexcept\u001b[0m \u001b[0mKeyboardInterrupt\u001b[0m\u001b[0;34m:\u001b[0m\u001b[0;34m\u001b[0m\u001b[0;34m\u001b[0m\u001b[0m\n\u001b[1;32m    734\u001b[0m                 \u001b[0;31m# re-raise KeyboardInterrupt, to truncate traceback\u001b[0m\u001b[0;34m\u001b[0m\u001b[0;34m\u001b[0m\u001b[0;34m\u001b[0m\u001b[0m\n\u001b[0;32m--> 735\u001b[0;31m                 \u001b[0;32mraise\u001b[0m \u001b[0mKeyboardInterrupt\u001b[0m\u001b[0;34m\u001b[0m\u001b[0;34m\u001b[0m\u001b[0m\n\u001b[0m\u001b[1;32m    736\u001b[0m             \u001b[0;32melse\u001b[0m\u001b[0;34m:\u001b[0m\u001b[0;34m\u001b[0m\u001b[0;34m\u001b[0m\u001b[0m\n\u001b[1;32m    737\u001b[0m                 \u001b[0;32mbreak\u001b[0m\u001b[0;34m\u001b[0m\u001b[0;34m\u001b[0m\u001b[0m\n",
      "\u001b[0;31mKeyboardInterrupt\u001b[0m: "
     ]
    }
   ],
   "source": [
    "main()"
   ]
  },
  {
   "cell_type": "code",
   "execution_count": 33,
   "metadata": {},
   "outputs": [
    {
     "name": "stdout",
     "output_type": "stream",
     "text": [
      "hello\n",
      "world\n"
     ]
    }
   ],
   "source": [
    "print(\"hello\\nworld\")"
   ]
  },
  {
   "cell_type": "code",
   "execution_count": null,
   "metadata": {
    "collapsed": true
   },
   "outputs": [],
   "source": [
    "CS205_small_testdata__3.txt"
   ]
  }
 ],
 "metadata": {
  "kernelspec": {
   "display_name": "Python 3",
   "language": "python",
   "name": "python3"
  },
  "language_info": {
   "codemirror_mode": {
    "name": "ipython",
    "version": 3
   },
   "file_extension": ".py",
   "mimetype": "text/x-python",
   "name": "python",
   "nbconvert_exporter": "python",
   "pygments_lexer": "ipython3",
   "version": "3.6.10"
  }
 },
 "nbformat": 4,
 "nbformat_minor": 2
}
