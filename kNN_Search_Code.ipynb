{
 "cells": [
  {
   "cell_type": "code",
   "execution_count": 14,
   "metadata": {
    "collapsed": true
   },
   "outputs": [],
   "source": [
    "import numpy as np\n",
    "import math\n",
    "import random as rand\n",
    "from numpy import linalg as LA"
   ]
  },
  {
   "cell_type": "code",
   "execution_count": 2,
   "metadata": {},
   "outputs": [
    {
     "data": {
      "text/plain": [
       "1"
      ]
     },
     "execution_count": 2,
     "metadata": {},
     "output_type": "execute_result"
    }
   ],
   "source": [
    "rand.seed()\n",
    "rand.randint(0,5)"
   ]
  },
  {
   "cell_type": "code",
   "execution_count": 3,
   "metadata": {
    "collapsed": true,
    "scrolled": false
   },
   "outputs": [],
   "source": [
    "#small_df = pd.read_csv('CS205_small_testdata__3.txt', sep=\"  \",header=None)\n",
    "#large_df = pd.read_csv('CS205_large_testdata__36.txt', sep=\"  \",header=None)\n",
    "\n",
    "small = np.loadtxt(\"CS205_small_testdata__3.txt\")\n",
    "large = np.loadtxt('CS205_large_testdata__36.txt')"
   ]
  },
  {
   "cell_type": "code",
   "execution_count": 4,
   "metadata": {
    "collapsed": true
   },
   "outputs": [],
   "source": [
    "# This is a testing stub to make sure that the search is working correctly\n",
    "def acc_class(ftr):\n",
    "    return(rand.randint(0,50))"
   ]
  },
  {
   "cell_type": "code",
   "execution_count": 29,
   "metadata": {},
   "outputs": [
    {
     "data": {
      "text/plain": [
       "array([[ 2.        , -0.11385477, -0.45279377, ...,  0.26205772,\n",
       "         0.50386084,  0.67157231],\n",
       "       [ 2.        ,  0.02937927,  0.75751174, ...,  0.02912671,\n",
       "        -0.76236389,  0.04549898],\n",
       "       [ 2.        ,  0.22602757, -1.5502071 , ..., -0.82138724,\n",
       "        -0.00699236,  1.3225128 ],\n",
       "       ...,\n",
       "       [ 2.        , -0.29006101,  3.3876522 , ..., -0.19810085,\n",
       "        -2.3249229 , -1.900013  ],\n",
       "       [ 2.        , -0.45589562,  3.2123917 , ..., -1.2869598 ,\n",
       "        -0.81692841,  0.66874778],\n",
       "       [ 1.        , -0.06730446,  1.0165715 , ...,  1.8883417 ,\n",
       "        -1.3469695 ,  1.0281039 ]])"
      ]
     },
     "execution_count": 29,
     "metadata": {},
     "output_type": "execute_result"
    }
   ],
   "source": [
    "small"
   ]
  },
  {
   "cell_type": "code",
   "execution_count": 6,
   "metadata": {
    "scrolled": true
   },
   "outputs": [
    {
     "name": "stdout",
     "output_type": "stream",
     "text": [
      "1\n",
      "2\n",
      "3\n",
      "4\n",
      "5\n",
      "6\n",
      "7\n",
      "8\n",
      "9\n",
      "10\n"
     ]
    }
   ],
   "source": [
    "for j in range(1,len(small[1,:])): print(j)"
   ]
  },
  {
   "cell_type": "code",
   "execution_count": 30,
   "metadata": {
    "collapsed": true
   },
   "outputs": [],
   "source": [
    "def ftr_search(mat):\n",
    "    # List to keep track of all the current features\n",
    "    crnt_ftr = []\n",
    "    levels_best = []\n",
    "    \n",
    "    # Each level of the search tree\n",
    "    for i in range(1,len(mat[1,:])):\n",
    "        # List to keep track of the added feature\n",
    "        add_ftr = -1\n",
    "        # Keeps track of the best accuracy\n",
    "        best_acc = -1\n",
    "        print(\"On the\", i, \"th level of the search tree\")\n",
    "        \n",
    "        # At each level, we want to see which features we can add\n",
    "        for j in range(1,len(mat[1,:])):\n",
    "            #print(j)\n",
    "            #print(crnt_ftr)\n",
    "            # At each level, I want to test the accuracy of adding a certain feature\n",
    "            # but I don't want to consider a feature that's already included\n",
    "            if j not in crnt_ftr:\n",
    "                #print(\"  Considering adding the \", j, \"feature\")\n",
    "                # Calculate the accuracy for the given set of features\n",
    "                acc = knn_lv1out(mat, crnt_ftr, j)\n",
    "                #acc = acc_class(j)\n",
    "                # Checking if we should add this feature based on how it compares\n",
    "                # to the best accuracy so far.\n",
    "                #print(best_acc,acc)\n",
    "                if acc > best_acc:\n",
    "                    best_acc = acc\n",
    "                    add_ftr = j # This is always updated when the accuracy is better.\n",
    "                #print(add_ftr)\n",
    "                \n",
    "        # After we check all the features that we can add at this level\n",
    "        # we want to make the current feature set is updated based on the best feature   \n",
    "        crnt_ftr.append(add_ftr) \n",
    "        # The best combination of features and its accuracy at the current level\n",
    "        levels_best.append((best_acc,crnt_ftr[:]))  # [:] is a copy of what is in the list now\n",
    "        #print(add_ftr)\n",
    "        print(\"*On level \", i, \"added feature\", add_ftr, \"to current set*\")\n",
    "        #print(crnt_ftr)\n",
    "        #print(crnt_ftr)\n",
    "        #print(len(set(crnt_ftr)))\n",
    "    return(levels_best)"
   ]
  },
  {
   "cell_type": "code",
   "execution_count": 20,
   "metadata": {},
   "outputs": [
    {
     "name": "stdout",
     "output_type": "stream",
     "text": [
      "[-4 -3 -2 -1  0  1  2  3  4]\n"
     ]
    },
    {
     "data": {
      "text/plain": [
       "array([[-4, -3, -2],\n",
       "       [-1,  0,  1],\n",
       "       [ 2,  3,  4]])"
      ]
     },
     "execution_count": 20,
     "metadata": {},
     "output_type": "execute_result"
    }
   ],
   "source": [
    "a = np.arange(9) - 4\n",
    "print(a)\n",
    "b = a.reshape((3, 3))\n",
    "b\n",
    "LA.norm()"
   ]
  },
  {
   "cell_type": "code",
   "execution_count": 24,
   "metadata": {
    "collapsed": true
   },
   "outputs": [],
   "source": [
    "# Creating a function that will perform kNN\n",
    "def knn(mat, crnt_set_, new_ftr):\n",
    "    '''\n",
    "    '''\n",
    "    # Keep track of accuracy\n",
    "    acc = 0\n",
    "    # The features that will be used for classification\n",
    "    crnt_set = crnt_set_[:]\n",
    "    crnt_set.append(new_ftr)\n",
    "    #print(crnt_set)\n",
    "  \n",
    "    # Leave one out cross validation for each of the observations\n",
    "    # with K = 1 nearest neighbors\n",
    "    for i in range(0,len(mat)):\n",
    "        # The observation to classify\n",
    "        obs = mat[i,crnt_set]\n",
    "        obs_label = mat[i,0]\n",
    "        # An initial value for the distance that will be updated\n",
    "        # if the distance at some iteration is smaller than the previous \n",
    "        # smallest distance.\n",
    "        nn_dist = 1000000\n",
    "        # Variable to keep track of the index that's closest to obs.\n",
    "        nn_ind = 0\n",
    "        # Now we compare each observation to the rest\n",
    "        for j in range(0,len(mat)):\n",
    "            # A check to make sure that the function is working properly\n",
    "            # print(\"Ask if\", i, \"is nearest neighbor with\", j)\n",
    "            if j != i: # don't compare observation to itself\n",
    "                #print(len(obs),len(mat[j,crnt_set]))\n",
    "                #print(obs, mat[j,crnt_set])\n",
    "                #dist = math.sqrt(sum(obs-mat[j,crnt_set])**2)\n",
    "                # Calculates the 2-norm for the difference which is the euclidean distance.\n",
    "                dist = LA.norm(obs-mat[j,crnt_set])\n",
    "                #print(dist,nn_dist)\n",
    "                if dist < nn_dist: # update label if this is true\n",
    "                    nn_dist = dist\n",
    "                    nn_ind = j\n",
    "                    label = mat[j,0] # the label of the closest observation\n",
    "                    \n",
    "        # After finding the best label, check whether it was classified correctly\n",
    "        if label == obs_label:\n",
    "            acc = acc + 1\n",
    "            \n",
    "    acc_rate = acc/len(mat)\n",
    "    return(acc_rate)"
   ]
  },
  {
   "cell_type": "code",
   "execution_count": 65,
   "metadata": {},
   "outputs": [],
   "source": [
    "# Creating a function that will perform kNN\n",
    "def knn_lv1out(mat, crnt_set_, new_ftr):\n",
    "    '''\n",
    "    '''\n",
    "    # Keep track of accuracy\n",
    "    acc = 0\n",
    "    # The features that will be used for classification\n",
    "    crnt_set = crnt_set_[:]\n",
    "    crnt_set.append(new_ftr)\n",
    "    #print(crnt_set)\n",
    " \n",
    "    # Leave one out cross validation for each of the observations\n",
    "    # with K = 1 nearest neighbors\n",
    "    for i in range(0,len(mat)):\n",
    "        # The observation to classify\n",
    "        obs = mat[i,crnt_set]\n",
    "        # An initial value for the distance that will be updated\n",
    "        # if the distance at some iteration is smaller than the previous\n",
    "        # smallest distance.\n",
    "        nn_dist = 1000000\n",
    "        # Variable to keep track of the index that's closest to obs.\n",
    "        nn_ind = 0\n",
    "        # Now we compare each observation to the rest\n",
    "#         print(obs.shape)\n",
    "#         print(mat[:,crnt_set].shape)\n",
    "#         print((obs-mat[:,crnt_set]).shape)\n",
    "        dist = LA.norm(obs-mat[:,crnt_set], axis=1)\n",
    "        ind = np.ones(dist.shape[0],bool); ind[i] = False;  #print(dist[ind].shape)\n",
    "#         print(np.min(dist[ind]))\n",
    "#         print(np.argmin(dist[ind]))\n",
    "        closest_idx = np.argmin(dist[ind])\n",
    "        if mat[i,0] == mat[closest_idx, 0]: acc += 1\n",
    "    return(acc/len(mat))"
   ]
  },
  {
   "cell_type": "code",
   "execution_count": 66,
   "metadata": {
    "scrolled": false
   },
   "outputs": [
    {
     "name": "stdout",
     "output_type": "stream",
     "text": [
      "11:46:29.824729\n",
      "On the 1 th level of the search tree\n",
      "*On level  1 added feature 4 to current set*\n",
      "On the 2 th level of the search tree\n",
      "*On level  2 added feature 6 to current set*\n",
      "On the 3 th level of the search tree\n",
      "*On level  3 added feature 3 to current set*\n",
      "On the 4 th level of the search tree\n",
      "*On level  4 added feature 5 to current set*\n",
      "On the 5 th level of the search tree\n",
      "*On level  5 added feature 9 to current set*\n",
      "On the 6 th level of the search tree\n",
      "*On level  6 added feature 1 to current set*\n",
      "On the 7 th level of the search tree\n",
      "*On level  7 added feature 7 to current set*\n",
      "On the 8 th level of the search tree\n",
      "*On level  8 added feature 2 to current set*\n",
      "On the 9 th level of the search tree\n",
      "*On level  9 added feature 10 to current set*\n",
      "On the 10 th level of the search tree\n",
      "*On level  10 added feature 8 to current set*\n",
      "11:46:31.020572\n"
     ]
    }
   ],
   "source": [
    "import datetime\n",
    "print(datetime.datetime.now().time())\n",
    "# Testing the ftr_search function with the small dataset\n",
    "ftr_search(small)\n",
    "print(datetime.datetime.now().time())"
   ]
  },
  {
   "cell_type": "code",
   "execution_count": null,
   "metadata": {},
   "outputs": [
    {
     "name": "stdout",
     "output_type": "stream",
     "text": [
      "11:47:03.703680\n",
      "On the 1 th level of the search tree\n",
      "*On level  1 added feature 93 to current set*\n",
      "On the 2 th level of the search tree\n",
      "*On level  2 added feature 129 to current set*\n",
      "On the 3 th level of the search tree\n",
      "*On level  3 added feature 56 to current set*\n",
      "On the 4 th level of the search tree\n",
      "*On level  4 added feature 41 to current set*\n",
      "On the 5 th level of the search tree\n",
      "*On level  5 added feature 152 to current set*\n",
      "On the 6 th level of the search tree\n",
      "*On level  6 added feature 225 to current set*\n",
      "On the 7 th level of the search tree\n",
      "*On level  7 added feature 44 to current set*\n",
      "On the 8 th level of the search tree\n",
      "*On level  8 added feature 238 to current set*\n",
      "On the 9 th level of the search tree\n",
      "*On level  9 added feature 218 to current set*\n",
      "On the 10 th level of the search tree\n",
      "*On level  10 added feature 95 to current set*\n",
      "On the 11 th level of the search tree\n",
      "*On level  11 added feature 9 to current set*\n",
      "On the 12 th level of the search tree\n",
      "*On level  12 added feature 242 to current set*\n",
      "On the 13 th level of the search tree\n",
      "*On level  13 added feature 78 to current set*\n",
      "On the 14 th level of the search tree\n",
      "*On level  14 added feature 25 to current set*\n",
      "On the 15 th level of the search tree\n",
      "*On level  15 added feature 86 to current set*\n",
      "On the 16 th level of the search tree\n",
      "*On level  16 added feature 19 to current set*\n",
      "On the 17 th level of the search tree\n",
      "*On level  17 added feature 194 to current set*\n",
      "On the 18 th level of the search tree\n",
      "*On level  18 added feature 123 to current set*\n",
      "On the 19 th level of the search tree\n",
      "*On level  19 added feature 137 to current set*\n",
      "On the 20 th level of the search tree\n",
      "*On level  20 added feature 206 to current set*\n",
      "On the 21 th level of the search tree\n",
      "*On level  21 added feature 72 to current set*\n",
      "On the 22 th level of the search tree\n",
      "*On level  22 added feature 241 to current set*\n",
      "On the 23 th level of the search tree\n",
      "*On level  23 added feature 185 to current set*\n",
      "On the 24 th level of the search tree\n",
      "*On level  24 added feature 230 to current set*\n",
      "On the 25 th level of the search tree\n",
      "*On level  25 added feature 87 to current set*\n",
      "On the 26 th level of the search tree\n",
      "*On level  26 added feature 142 to current set*\n",
      "On the 27 th level of the search tree\n",
      "*On level  27 added feature 144 to current set*\n",
      "On the 28 th level of the search tree\n",
      "*On level  28 added feature 127 to current set*\n",
      "On the 29 th level of the search tree\n",
      "*On level  29 added feature 201 to current set*\n",
      "On the 30 th level of the search tree\n",
      "*On level  30 added feature 239 to current set*\n",
      "On the 31 th level of the search tree\n",
      "*On level  31 added feature 14 to current set*\n",
      "On the 32 th level of the search tree\n",
      "*On level  32 added feature 232 to current set*\n",
      "On the 33 th level of the search tree\n",
      "*On level  33 added feature 53 to current set*\n",
      "On the 34 th level of the search tree\n",
      "*On level  34 added feature 54 to current set*\n",
      "On the 35 th level of the search tree\n",
      "*On level  35 added feature 27 to current set*\n",
      "On the 36 th level of the search tree\n",
      "*On level  36 added feature 126 to current set*\n",
      "On the 37 th level of the search tree\n",
      "*On level  37 added feature 233 to current set*\n",
      "On the 38 th level of the search tree\n",
      "*On level  38 added feature 1 to current set*\n",
      "On the 39 th level of the search tree\n",
      "*On level  39 added feature 135 to current set*\n",
      "On the 40 th level of the search tree\n",
      "*On level  40 added feature 30 to current set*\n",
      "On the 41 th level of the search tree\n",
      "*On level  41 added feature 158 to current set*\n",
      "On the 42 th level of the search tree\n",
      "*On level  42 added feature 91 to current set*\n",
      "On the 43 th level of the search tree\n",
      "*On level  43 added feature 134 to current set*\n",
      "On the 44 th level of the search tree\n",
      "*On level  44 added feature 12 to current set*\n",
      "On the 45 th level of the search tree\n",
      "*On level  45 added feature 110 to current set*\n",
      "On the 46 th level of the search tree\n",
      "*On level  46 added feature 150 to current set*\n",
      "On the 47 th level of the search tree\n",
      "*On level  47 added feature 130 to current set*\n",
      "On the 48 th level of the search tree\n",
      "*On level  48 added feature 52 to current set*\n",
      "On the 49 th level of the search tree\n",
      "*On level  49 added feature 245 to current set*\n",
      "On the 50 th level of the search tree\n",
      "*On level  50 added feature 57 to current set*\n",
      "On the 51 th level of the search tree\n",
      "*On level  51 added feature 215 to current set*\n",
      "On the 52 th level of the search tree\n",
      "*On level  52 added feature 39 to current set*\n",
      "On the 53 th level of the search tree\n",
      "*On level  53 added feature 156 to current set*\n",
      "On the 54 th level of the search tree\n",
      "*On level  54 added feature 63 to current set*\n",
      "On the 55 th level of the search tree\n",
      "*On level  55 added feature 199 to current set*\n",
      "On the 56 th level of the search tree\n",
      "*On level  56 added feature 83 to current set*\n",
      "On the 57 th level of the search tree\n",
      "*On level  57 added feature 210 to current set*\n",
      "On the 58 th level of the search tree\n",
      "*On level  58 added feature 15 to current set*\n",
      "On the 59 th level of the search tree\n",
      "*On level  59 added feature 226 to current set*\n",
      "On the 60 th level of the search tree\n",
      "*On level  60 added feature 244 to current set*\n",
      "On the 61 th level of the search tree\n",
      "*On level  61 added feature 47 to current set*\n",
      "On the 62 th level of the search tree\n",
      "*On level  62 added feature 79 to current set*\n",
      "On the 63 th level of the search tree\n",
      "*On level  63 added feature 29 to current set*\n",
      "On the 64 th level of the search tree\n",
      "*On level  64 added feature 38 to current set*\n",
      "On the 65 th level of the search tree\n",
      "*On level  65 added feature 157 to current set*\n",
      "On the 66 th level of the search tree\n",
      "*On level  66 added feature 197 to current set*\n",
      "On the 67 th level of the search tree\n",
      "*On level  67 added feature 62 to current set*\n",
      "On the 68 th level of the search tree\n",
      "*On level  68 added feature 151 to current set*\n",
      "On the 69 th level of the search tree\n",
      "*On level  69 added feature 179 to current set*\n",
      "On the 70 th level of the search tree\n",
      "*On level  70 added feature 205 to current set*\n",
      "On the 71 th level of the search tree\n",
      "*On level  71 added feature 5 to current set*\n",
      "On the 72 th level of the search tree\n",
      "*On level  72 added feature 20 to current set*\n",
      "On the 73 th level of the search tree\n",
      "*On level  73 added feature 190 to current set*\n",
      "On the 74 th level of the search tree\n",
      "*On level  74 added feature 146 to current set*\n",
      "On the 75 th level of the search tree\n",
      "*On level  75 added feature 172 to current set*\n",
      "On the 76 th level of the search tree\n",
      "*On level  76 added feature 49 to current set*\n",
      "On the 77 th level of the search tree\n",
      "*On level  77 added feature 173 to current set*\n",
      "On the 78 th level of the search tree\n",
      "*On level  78 added feature 236 to current set*\n",
      "On the 79 th level of the search tree\n",
      "*On level  79 added feature 94 to current set*\n",
      "On the 80 th level of the search tree\n",
      "*On level  80 added feature 161 to current set*\n",
      "On the 81 th level of the search tree\n",
      "*On level  81 added feature 22 to current set*\n",
      "On the 82 th level of the search tree\n",
      "*On level  82 added feature 139 to current set*\n",
      "On the 83 th level of the search tree\n",
      "*On level  83 added feature 3 to current set*\n",
      "On the 84 th level of the search tree\n",
      "*On level  84 added feature 70 to current set*\n",
      "On the 85 th level of the search tree\n",
      "*On level  85 added feature 203 to current set*\n",
      "On the 86 th level of the search tree\n",
      "*On level  86 added feature 164 to current set*\n",
      "On the 87 th level of the search tree\n",
      "*On level  87 added feature 166 to current set*\n",
      "On the 88 th level of the search tree\n",
      "*On level  88 added feature 82 to current set*\n",
      "On the 89 th level of the search tree\n",
      "*On level  89 added feature 149 to current set*\n",
      "On the 90 th level of the search tree\n",
      "*On level  90 added feature 183 to current set*\n",
      "On the 91 th level of the search tree\n",
      "*On level  91 added feature 35 to current set*\n",
      "On the 92 th level of the search tree\n",
      "*On level  92 added feature 216 to current set*\n",
      "On the 93 th level of the search tree\n",
      "*On level  93 added feature 73 to current set*\n",
      "On the 94 th level of the search tree\n",
      "*On level  94 added feature 60 to current set*\n",
      "On the 95 th level of the search tree\n",
      "*On level  95 added feature 188 to current set*\n",
      "On the 96 th level of the search tree\n",
      "*On level  96 added feature 160 to current set*\n",
      "On the 97 th level of the search tree\n"
     ]
    },
    {
     "name": "stdout",
     "output_type": "stream",
     "text": [
      "*On level  97 added feature 235 to current set*\n",
      "On the 98 th level of the search tree\n",
      "*On level  98 added feature 175 to current set*\n",
      "On the 99 th level of the search tree\n",
      "*On level  99 added feature 192 to current set*\n",
      "On the 100 th level of the search tree\n",
      "*On level  100 added feature 106 to current set*\n",
      "On the 101 th level of the search tree\n",
      "*On level  101 added feature 148 to current set*\n",
      "On the 102 th level of the search tree\n",
      "*On level  102 added feature 145 to current set*\n",
      "On the 103 th level of the search tree\n",
      "*On level  103 added feature 147 to current set*\n",
      "On the 104 th level of the search tree\n",
      "*On level  104 added feature 247 to current set*\n",
      "On the 105 th level of the search tree\n",
      "*On level  105 added feature 7 to current set*\n",
      "On the 106 th level of the search tree\n",
      "*On level  106 added feature 111 to current set*\n",
      "On the 107 th level of the search tree\n",
      "*On level  107 added feature 34 to current set*\n",
      "On the 108 th level of the search tree\n",
      "*On level  108 added feature 71 to current set*\n",
      "On the 109 th level of the search tree\n",
      "*On level  109 added feature 229 to current set*\n",
      "On the 110 th level of the search tree\n",
      "*On level  110 added feature 85 to current set*\n",
      "On the 111 th level of the search tree\n",
      "*On level  111 added feature 10 to current set*\n",
      "On the 112 th level of the search tree\n"
     ]
    }
   ],
   "source": [
    "print(datetime.datetime.now().time())\n",
    "start = time.time()\n",
    "# Testing the ftr_search function with the large dataset\n",
    "acc_large = ftr_search(large)\n",
    "end = time.time()\n",
    "temp = end-start\n",
    "print(temp)\n",
    "hours = temp//3600\n",
    "temp = temp - 3600*hours\n",
    "minutes = temp//60\n",
    "seconds = temp - 60*minutes\n",
    "print('%d:%d:%d' %(hours,minutes,seconds))\n",
    "print(f\"--- {(time.time() - start)/60:.4f} minutes ---\")\n",
    "print(datetime.datetime.now().time())"
   ]
  },
  {
   "cell_type": "code",
   "execution_count": 49,
   "metadata": {
    "scrolled": false
   },
   "outputs": [
    {
     "name": "stdout",
     "output_type": "stream",
     "text": [
      "11:30:03.740120\n",
      "On the 1 th level of the search tree\n",
      "*On level  1 added feature 4 to current set*\n",
      "On the 2 th level of the search tree\n",
      "*On level  2 added feature 6 to current set*\n",
      "On the 3 th level of the search tree\n",
      "*On level  3 added feature 3 to current set*\n",
      "On the 4 th level of the search tree\n",
      "*On level  4 added feature 5 to current set*\n",
      "On the 5 th level of the search tree\n",
      "*On level  5 added feature 9 to current set*\n",
      "On the 6 th level of the search tree\n",
      "*On level  6 added feature 1 to current set*\n",
      "On the 7 th level of the search tree\n",
      "*On level  7 added feature 7 to current set*\n",
      "On the 8 th level of the search tree\n",
      "*On level  8 added feature 2 to current set*\n",
      "On the 9 th level of the search tree\n",
      "*On level  9 added feature 10 to current set*\n",
      "On the 10 th level of the search tree\n",
      "*On level  10 added feature 8 to current set*\n",
      "1.0707190036773682\n",
      "0:0:1\n",
      "--- 1.0716 seconds ---\n",
      "11:30:04.815560\n"
     ]
    }
   ],
   "source": [
    "import time\n",
    "print(datetime.datetime.now().time())\n",
    "start = time.time()\n",
    "# Testing the ftr_search function with the large dataset\n",
    "acc_small = ftr_search(small)\n",
    "end = time.time()\n",
    "temp = end-start\n",
    "print(temp)\n",
    "hours = temp//3600\n",
    "temp = temp - 3600*hours\n",
    "minutes = temp//60\n",
    "seconds = temp - 60*minutes\n",
    "print('%d:%d:%d' %(hours,minutes,seconds))\n",
    "print(f\"--- {(time.time() - start):.4f} seconds ---\")\n",
    "print(datetime.datetime.now().time())"
   ]
  },
  {
   "cell_type": "code",
   "execution_count": 62,
   "metadata": {},
   "outputs": [
    {
     "data": {
      "text/plain": [
       "int"
      ]
     },
     "execution_count": 62,
     "metadata": {},
     "output_type": "execute_result"
    }
   ],
   "source": [
    "type(1)"
   ]
  },
  {
   "cell_type": "code",
   "execution_count": 293,
   "metadata": {},
   "outputs": [
    {
     "name": "stdout",
     "output_type": "stream",
     "text": [
      "[(40, [4]), (42, [4, 6]), (38, [4, 6, 3]), (50, [4, 6, 3, 5]), (36, [4, 6, 3, 5, 0]), (40, [4, 6, 3, 5, 0, 1]), (46, [4, 6, 3, 5, 0, 1, 2]), (44, [4, 6, 3, 5, 0, 1, 2, 9]), (39, [4, 6, 3, 5, 0, 1, 2, 9, 8]), (11, [4, 6, 3, 5, 0, 1, 2, 9, 8, 10]), (28, [4, 6, 3, 5, 0, 1, 2, 9, 8, 10, 7])]\n",
      "[(11, [4, 6, 3, 5, 0, 1, 2, 9, 8, 10]), (28, [4, 6, 3, 5, 0, 1, 2, 9, 8, 10, 7]), (36, [4, 6, 3, 5, 0]), (38, [4, 6, 3]), (39, [4, 6, 3, 5, 0, 1, 2, 9, 8]), (40, [4]), (40, [4, 6, 3, 5, 0, 1]), (42, [4, 6]), (44, [4, 6, 3, 5, 0, 1, 2, 9]), (46, [4, 6, 3, 5, 0, 1, 2]), (50, [4, 6, 3, 5])]\n"
     ]
    }
   ],
   "source": [
    "print(combs)\n",
    "combs.sort()   # Sort by the first element in the tuple first\n",
    "print(combs)\n"
   ]
  },
  {
   "cell_type": "code",
   "execution_count": null,
   "metadata": {
    "collapsed": true
   },
   "outputs": [],
   "source": []
  },
  {
   "cell_type": "code",
   "execution_count": 104,
   "metadata": {
    "scrolled": false
   },
   "outputs": [
    {
     "data": {
      "text/plain": [
       "0.7133333333333334"
      ]
     },
     "execution_count": 104,
     "metadata": {},
     "output_type": "execute_result"
    }
   ],
   "source": [
    "# testing the kNN \\function on the small dataset with all featuers\n",
    "knn(mat = small, crnt_set, new_ftr)"
   ]
  },
  {
   "cell_type": "code",
   "execution_count": 74,
   "metadata": {},
   "outputs": [
    {
     "data": {
      "text/plain": [
       "25"
      ]
     },
     "execution_count": 74,
     "metadata": {},
     "output_type": "execute_result"
    }
   ],
   "source": [
    "int(sum(small[1,1:]-small[2,1:]))**2"
   ]
  },
  {
   "cell_type": "code",
   "execution_count": 262,
   "metadata": {},
   "outputs": [
    {
     "data": {
      "text/plain": [
       "4.456618812189467"
      ]
     },
     "execution_count": 262,
     "metadata": {},
     "output_type": "execute_result"
    }
   ],
   "source": [
    "sum(small[1,[1,2]]-small[2,[1,2]])**2"
   ]
  },
  {
   "cell_type": "code",
   "execution_count": 105,
   "metadata": {},
   "outputs": [
    {
     "data": {
      "text/plain": [
       "array([ 0.02937927,  0.75751174, -0.57226014])"
      ]
     },
     "execution_count": 105,
     "metadata": {},
     "output_type": "execute_result"
    }
   ],
   "source": [
    "small[1,[1,2,3]]"
   ]
  },
  {
   "cell_type": "code",
   "execution_count": 110,
   "metadata": {},
   "outputs": [
    {
     "ename": "TypeError",
     "evalue": "object of type 'numpy.float64' has no len()",
     "output_type": "error",
     "traceback": [
      "\u001b[0;31m---------------------------------------------------------------------------\u001b[0m",
      "\u001b[0;31mTypeError\u001b[0m                                 Traceback (most recent call last)",
      "\u001b[0;32m<ipython-input-110-126c18dc7738>\u001b[0m in \u001b[0;36m<module>\u001b[0;34m()\u001b[0m\n\u001b[0;32m----> 1\u001b[0;31m \u001b[0mlen\u001b[0m\u001b[0;34m(\u001b[0m\u001b[0msmall\u001b[0m\u001b[0;34m[\u001b[0m\u001b[0;36m1\u001b[0m\u001b[0;34m,\u001b[0m\u001b[0;34m-\u001b[0m\u001b[0;36m0\u001b[0m\u001b[0;34m]\u001b[0m\u001b[0;34m)\u001b[0m\u001b[0;34m\u001b[0m\u001b[0m\n\u001b[0m",
      "\u001b[0;31mTypeError\u001b[0m: object of type 'numpy.float64' has no len()"
     ]
    }
   ],
   "source": [
    "len(small[1,-0])"
   ]
  },
  {
   "cell_type": "code",
   "execution_count": 108,
   "metadata": {},
   "outputs": [
    {
     "name": "stdout",
     "output_type": "stream",
     "text": [
      "0\n",
      "1\n",
      "2\n",
      "3\n",
      "4\n",
      "5\n",
      "6\n",
      "7\n",
      "8\n",
      "9\n"
     ]
    }
   ],
   "source": [
    "for i in range(0,10): print(i)"
   ]
  },
  {
   "cell_type": "code",
   "execution_count": 111,
   "metadata": {},
   "outputs": [
    {
     "data": {
      "text/plain": [
       "2.0"
      ]
     },
     "execution_count": 111,
     "metadata": {},
     "output_type": "execute_result"
    }
   ],
   "source": [
    "small[1,-0]"
   ]
  },
  {
   "cell_type": "code",
   "execution_count": 134,
   "metadata": {},
   "outputs": [
    {
     "ename": "AttributeError",
     "evalue": "'int' object has no attribute 'append'",
     "output_type": "error",
     "traceback": [
      "\u001b[0;31m---------------------------------------------------------------------------\u001b[0m",
      "\u001b[0;31mAttributeError\u001b[0m                            Traceback (most recent call last)",
      "\u001b[0;32m<ipython-input-134-6a9232486a27>\u001b[0m in \u001b[0;36m<module>\u001b[0;34m()\u001b[0m\n\u001b[0;32m----> 1\u001b[0;31m \u001b[0ml\u001b[0m\u001b[0;34m.\u001b[0m\u001b[0mappend\u001b[0m\u001b[0;34m(\u001b[0m\u001b[0;36m1\u001b[0m\u001b[0;34m)\u001b[0m\u001b[0;34m\u001b[0m\u001b[0m\n\u001b[0m",
      "\u001b[0;31mAttributeError\u001b[0m: 'int' object has no attribute 'append'"
     ]
    }
   ],
   "source": [
    "l.append(1)"
   ]
  },
  {
   "cell_type": "code",
   "execution_count": 316,
   "metadata": {},
   "outputs": [
    {
     "name": "stdout",
     "output_type": "stream",
     "text": [
      "0\n",
      "1\n",
      "2\n",
      "3\n",
      "4\n"
     ]
    }
   ],
   "source": [
    "for j in range(,5): print(j)"
   ]
  },
  {
   "cell_type": "code",
   "execution_count": null,
   "metadata": {
    "collapsed": true
   },
   "outputs": [],
   "source": []
  }
 ],
 "metadata": {
  "kernelspec": {
   "display_name": "Python 3",
   "language": "python",
   "name": "python3"
  },
  "language_info": {
   "codemirror_mode": {
    "name": "ipython",
    "version": 3
   },
   "file_extension": ".py",
   "mimetype": "text/x-python",
   "name": "python",
   "nbconvert_exporter": "python",
   "pygments_lexer": "ipython3",
   "version": "3.6.10"
  }
 },
 "nbformat": 4,
 "nbformat_minor": 2
}
