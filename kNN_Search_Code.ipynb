{
 "cells": [
  {
   "cell_type": "code",
   "execution_count": 143,
   "metadata": {},
   "outputs": [],
   "source": [
    "import numpy as np\n",
    "import math\n",
    "import random as rand"
   ]
  },
  {
   "cell_type": "code",
   "execution_count": 145,
   "metadata": {},
   "outputs": [
    {
     "data": {
      "text/plain": [
       "2"
      ]
     },
     "execution_count": 145,
     "metadata": {},
     "output_type": "execute_result"
    }
   ],
   "source": [
    "rand.seed()\n",
    "rand.randint(0,5)"
   ]
  },
  {
   "cell_type": "code",
   "execution_count": 55,
   "metadata": {
    "scrolled": false
   },
   "outputs": [],
   "source": [
    "#small_df = pd.read_csv('CS205_small_testdata__3.txt', sep=\"  \",header=None)\n",
    "#large_df = pd.read_csv('CS205_large_testdata__36.txt', sep=\"  \",header=None)\n",
    "\n",
    "small = np.loadtxt(\"CS205_small_testdata__3.txt\")\n",
    "large= np.loadtxt('CS205_large_testdata__36.txt')"
   ]
  },
  {
   "cell_type": "code",
   "execution_count": 174,
   "metadata": {},
   "outputs": [
    {
     "data": {
      "text/plain": [
       "[0, 1, [0], [0]]"
      ]
     },
     "execution_count": 174,
     "metadata": {},
     "output_type": "execute_result"
    }
   ],
   "source": [
    "l.append([0])\n",
    "l"
   ]
  },
  {
   "cell_type": "code",
   "execution_count": 150,
   "metadata": {},
   "outputs": [],
   "source": [
    "# This is a testing stub to make sure that the search is working correctly\n",
    "def acc_class(ftr):\n",
    "    return(rand.randint(0,50))"
   ]
  },
  {
   "cell_type": "code",
   "execution_count": 193,
   "metadata": {},
   "outputs": [
    {
     "data": {
      "text/plain": [
       "47"
      ]
     },
     "execution_count": 193,
     "metadata": {},
     "output_type": "execute_result"
    }
   ],
   "source": [
    "acc_class(2)"
   ]
  },
  {
   "cell_type": "code",
   "execution_count": null,
   "metadata": {
    "collapsed": true
   },
   "outputs": [],
   "source": []
  },
  {
   "cell_type": "code",
   "execution_count": 271,
   "metadata": {},
   "outputs": [],
   "source": [
    "# Creating a function that will perform kNN\n",
    "def knn(mat, crnt_set, new_ftr):\n",
    "    '''\n",
    "    '''\n",
    "    # Keep track of accuracy\n",
    "    acc = 0\n",
    "    \n",
    "    # The features that will be used for classificaiton\n",
    "    ftr = crnt_set.append(new_ftr)\n",
    "    print(crnt_set, new_ftr)\n",
    "    # Leave one out cross validation for each of the observations\n",
    "    # with K = 1 nearest neighbors\n",
    "    for i in range(0,len(mat)):\n",
    "        # The observation to classify\n",
    "        obs = mat[i,ftr]\n",
    "        obs_label = mat[i,0]\n",
    "        # An initial value for the distance that will be updated\n",
    "        # if the distance at some iteration is smaller than the previous \n",
    "        # smallest distance.\n",
    "        nn_dist = 1000000\n",
    "        # Variable to keep track of the index that's closest to obs.\n",
    "        nn_ind = 0\n",
    "        # Now we compare each observation to the rest\n",
    "        for j in range(0,len(mat)):\n",
    "            # A check to make sure that the function is working properly\n",
    "            # print(\"Ask if\", i, \"is nearest neighbor with\", j)\n",
    "            if j != i: # don't compare observation to itself\n",
    "                #print(len(obs),len(mat[j,ftr]))\n",
    "                #print(obs, mat[j,ftr])\n",
    "                dist = math.sqrt(sum(obs-mat[j,ftr])**2)\n",
    "                #print(dist,nn_dist)\n",
    "                if dist < nn_dist: # update label if this is true\n",
    "                    nn_dist = dist\n",
    "                    nn_ind = j\n",
    "                    label = mat[j,0] # the label of the closest observation\n",
    "                    \n",
    "        # After finding the best label, check whether it was classified correctly\n",
    "        if label == obs_label:\n",
    "            acc = acc + 1\n",
    "            \n",
    "    acc_rate = acc/len(mat)\n",
    "    return(acc_rate)"
   ]
  },
  {
   "cell_type": "code",
   "execution_count": 276,
   "metadata": {
    "collapsed": true
   },
   "outputs": [],
   "source": [
    "def ftr_search(mat):\n",
    "    # List to keep track of all the current features\n",
    "    crnt_ftr = []\n",
    "    levels_best = []\n",
    "    \n",
    "    # Each level of the search tree\n",
    "    for i in range(1,len(mat[1,:])+1):\n",
    "        # List to keep track of the added feature\n",
    "        add_ftr = -1\n",
    "        # Keeps track of the best accuracy\n",
    "        best_acc = -1\n",
    "        print(\"On the\", i, \"th level of the search tree\")\n",
    "        \n",
    "        # At each level, we want to see which features we can add\n",
    "        for j in range(0,len(mat[1,:])):\n",
    "            # At each level, I want to test the accuracy of adding a certain feature\n",
    "            # but I don't want to consider a feature that's already included\n",
    "            if j not in crnt_ftr:\n",
    "                print(\"  Considering adding the \", j+1, \"feature\")\n",
    "                # Calculate the accuracy for the given set of features\n",
    "                #acc = knn(mat, crnt_ftr, j)\n",
    "                acc = acc_class(j)\n",
    "                # Checking if we should add this feature based on how it compares\n",
    "                # to the best accuracy so far.\n",
    "                #print(best_acc,acc)\n",
    "                if acc > best_acc:\n",
    "                    best_acc = acc\n",
    "                    add_ftr = j # This is always updated when the accuracy is better.\n",
    "                #print(add_ftr)\n",
    "                \n",
    "        # After we check all the features that we can add at this level\n",
    "        # we want to make the current feature set is updated based on the best feature\n",
    "        #print(crnt_ftr)\n",
    "        crnt_ftr.append(add_ftr)\n",
    "        \n",
    "        # The best combination of features and its accuracy at the current level\n",
    "        levels_best.append((best_acc,crnt_ftr[:]))  # [:] is a copy of what is in the list now\n",
    "            \n",
    "        #print(add_ftr)\n",
    "        print(\"*On level \", i, \"added feature\", add_ftr + 1, \"to current set*\")\n",
    "        print(crnt_ftr)\n",
    "        print(len(set(crnt_ftr)))\n",
    "    return(levels_best)"
   ]
  },
  {
   "cell_type": "code",
   "execution_count": 291,
   "metadata": {
    "scrolled": false
   },
   "outputs": [
    {
     "name": "stdout",
     "output_type": "stream",
     "text": [
      "On the 1 th level of the search tree\n",
      "  Considering adding the  1 feature\n",
      "  Considering adding the  2 feature\n",
      "  Considering adding the  3 feature\n",
      "  Considering adding the  4 feature\n",
      "  Considering adding the  5 feature\n",
      "  Considering adding the  6 feature\n",
      "  Considering adding the  7 feature\n",
      "  Considering adding the  8 feature\n",
      "  Considering adding the  9 feature\n",
      "  Considering adding the  10 feature\n",
      "  Considering adding the  11 feature\n",
      "*On level  1 added feature 5 to current set*\n",
      "[4]\n",
      "1\n",
      "On the 2 th level of the search tree\n",
      "  Considering adding the  1 feature\n",
      "  Considering adding the  2 feature\n",
      "  Considering adding the  3 feature\n",
      "  Considering adding the  4 feature\n",
      "  Considering adding the  6 feature\n",
      "  Considering adding the  7 feature\n",
      "  Considering adding the  8 feature\n",
      "  Considering adding the  9 feature\n",
      "  Considering adding the  10 feature\n",
      "  Considering adding the  11 feature\n",
      "*On level  2 added feature 7 to current set*\n",
      "[4, 6]\n",
      "2\n",
      "On the 3 th level of the search tree\n",
      "  Considering adding the  1 feature\n",
      "  Considering adding the  2 feature\n",
      "  Considering adding the  3 feature\n",
      "  Considering adding the  4 feature\n",
      "  Considering adding the  6 feature\n",
      "  Considering adding the  8 feature\n",
      "  Considering adding the  9 feature\n",
      "  Considering adding the  10 feature\n",
      "  Considering adding the  11 feature\n",
      "*On level  3 added feature 4 to current set*\n",
      "[4, 6, 3]\n",
      "3\n",
      "On the 4 th level of the search tree\n",
      "  Considering adding the  1 feature\n",
      "  Considering adding the  2 feature\n",
      "  Considering adding the  3 feature\n",
      "  Considering adding the  6 feature\n",
      "  Considering adding the  8 feature\n",
      "  Considering adding the  9 feature\n",
      "  Considering adding the  10 feature\n",
      "  Considering adding the  11 feature\n",
      "*On level  4 added feature 6 to current set*\n",
      "[4, 6, 3, 5]\n",
      "4\n",
      "On the 5 th level of the search tree\n",
      "  Considering adding the  1 feature\n",
      "  Considering adding the  2 feature\n",
      "  Considering adding the  3 feature\n",
      "  Considering adding the  8 feature\n",
      "  Considering adding the  9 feature\n",
      "  Considering adding the  10 feature\n",
      "  Considering adding the  11 feature\n",
      "*On level  5 added feature 1 to current set*\n",
      "[4, 6, 3, 5, 0]\n",
      "5\n",
      "On the 6 th level of the search tree\n",
      "  Considering adding the  2 feature\n",
      "  Considering adding the  3 feature\n",
      "  Considering adding the  8 feature\n",
      "  Considering adding the  9 feature\n",
      "  Considering adding the  10 feature\n",
      "  Considering adding the  11 feature\n",
      "*On level  6 added feature 2 to current set*\n",
      "[4, 6, 3, 5, 0, 1]\n",
      "6\n",
      "On the 7 th level of the search tree\n",
      "  Considering adding the  3 feature\n",
      "  Considering adding the  8 feature\n",
      "  Considering adding the  9 feature\n",
      "  Considering adding the  10 feature\n",
      "  Considering adding the  11 feature\n",
      "*On level  7 added feature 3 to current set*\n",
      "[4, 6, 3, 5, 0, 1, 2]\n",
      "7\n",
      "On the 8 th level of the search tree\n",
      "  Considering adding the  8 feature\n",
      "  Considering adding the  9 feature\n",
      "  Considering adding the  10 feature\n",
      "  Considering adding the  11 feature\n",
      "*On level  8 added feature 10 to current set*\n",
      "[4, 6, 3, 5, 0, 1, 2, 9]\n",
      "8\n",
      "On the 9 th level of the search tree\n",
      "  Considering adding the  8 feature\n",
      "  Considering adding the  9 feature\n",
      "  Considering adding the  11 feature\n",
      "*On level  9 added feature 9 to current set*\n",
      "[4, 6, 3, 5, 0, 1, 2, 9, 8]\n",
      "9\n",
      "On the 10 th level of the search tree\n",
      "  Considering adding the  8 feature\n",
      "  Considering adding the  11 feature\n",
      "*On level  10 added feature 11 to current set*\n",
      "[4, 6, 3, 5, 0, 1, 2, 9, 8, 10]\n",
      "10\n",
      "On the 11 th level of the search tree\n",
      "  Considering adding the  8 feature\n",
      "*On level  11 added feature 8 to current set*\n",
      "[4, 6, 3, 5, 0, 1, 2, 9, 8, 10, 7]\n",
      "11\n"
     ]
    }
   ],
   "source": [
    "# Testing the ftr_search function\n",
    "combs = ftr_search(small)"
   ]
  },
  {
   "cell_type": "code",
   "execution_count": 293,
   "metadata": {},
   "outputs": [
    {
     "name": "stdout",
     "output_type": "stream",
     "text": [
      "[(40, [4]), (42, [4, 6]), (38, [4, 6, 3]), (50, [4, 6, 3, 5]), (36, [4, 6, 3, 5, 0]), (40, [4, 6, 3, 5, 0, 1]), (46, [4, 6, 3, 5, 0, 1, 2]), (44, [4, 6, 3, 5, 0, 1, 2, 9]), (39, [4, 6, 3, 5, 0, 1, 2, 9, 8]), (11, [4, 6, 3, 5, 0, 1, 2, 9, 8, 10]), (28, [4, 6, 3, 5, 0, 1, 2, 9, 8, 10, 7])]\n",
      "[(11, [4, 6, 3, 5, 0, 1, 2, 9, 8, 10]), (28, [4, 6, 3, 5, 0, 1, 2, 9, 8, 10, 7]), (36, [4, 6, 3, 5, 0]), (38, [4, 6, 3]), (39, [4, 6, 3, 5, 0, 1, 2, 9, 8]), (40, [4]), (40, [4, 6, 3, 5, 0, 1]), (42, [4, 6]), (44, [4, 6, 3, 5, 0, 1, 2, 9]), (46, [4, 6, 3, 5, 0, 1, 2]), (50, [4, 6, 3, 5])]\n"
     ]
    }
   ],
   "source": [
    "print(combs)\n",
    "combs.sort()   # Sort by the first element in the tuple first\n",
    "print(combs)\n"
   ]
  },
  {
   "cell_type": "code",
   "execution_count": null,
   "metadata": {
    "collapsed": true
   },
   "outputs": [],
   "source": []
  },
  {
   "cell_type": "code",
   "execution_count": 104,
   "metadata": {
    "scrolled": false
   },
   "outputs": [
    {
     "data": {
      "text/plain": [
       "0.7133333333333334"
      ]
     },
     "execution_count": 104,
     "metadata": {},
     "output_type": "execute_result"
    }
   ],
   "source": [
    "# testing the kNN \\function on the small dataset with all featuers\n",
    "knn(mat = small)"
   ]
  },
  {
   "cell_type": "code",
   "execution_count": 74,
   "metadata": {},
   "outputs": [
    {
     "data": {
      "text/plain": [
       "25"
      ]
     },
     "execution_count": 74,
     "metadata": {},
     "output_type": "execute_result"
    }
   ],
   "source": [
    "int(sum(small[1,1:]-small[2,1:]))**2"
   ]
  },
  {
   "cell_type": "code",
   "execution_count": 262,
   "metadata": {},
   "outputs": [
    {
     "data": {
      "text/plain": [
       "4.456618812189467"
      ]
     },
     "execution_count": 262,
     "metadata": {},
     "output_type": "execute_result"
    }
   ],
   "source": [
    "sum(small[1,[1,2]]-small[2,[1,2]])**2"
   ]
  },
  {
   "cell_type": "code",
   "execution_count": 105,
   "metadata": {},
   "outputs": [
    {
     "data": {
      "text/plain": [
       "array([ 0.02937927,  0.75751174, -0.57226014])"
      ]
     },
     "execution_count": 105,
     "metadata": {},
     "output_type": "execute_result"
    }
   ],
   "source": [
    "small[1,[1,2,3]]"
   ]
  },
  {
   "cell_type": "code",
   "execution_count": 110,
   "metadata": {},
   "outputs": [
    {
     "ename": "TypeError",
     "evalue": "object of type 'numpy.float64' has no len()",
     "output_type": "error",
     "traceback": [
      "\u001b[0;31m---------------------------------------------------------------------------\u001b[0m",
      "\u001b[0;31mTypeError\u001b[0m                                 Traceback (most recent call last)",
      "\u001b[0;32m<ipython-input-110-126c18dc7738>\u001b[0m in \u001b[0;36m<module>\u001b[0;34m()\u001b[0m\n\u001b[0;32m----> 1\u001b[0;31m \u001b[0mlen\u001b[0m\u001b[0;34m(\u001b[0m\u001b[0msmall\u001b[0m\u001b[0;34m[\u001b[0m\u001b[0;36m1\u001b[0m\u001b[0;34m,\u001b[0m\u001b[0;34m-\u001b[0m\u001b[0;36m0\u001b[0m\u001b[0;34m]\u001b[0m\u001b[0;34m)\u001b[0m\u001b[0;34m\u001b[0m\u001b[0m\n\u001b[0m",
      "\u001b[0;31mTypeError\u001b[0m: object of type 'numpy.float64' has no len()"
     ]
    }
   ],
   "source": [
    "len(small[1,-0])"
   ]
  },
  {
   "cell_type": "code",
   "execution_count": 108,
   "metadata": {},
   "outputs": [
    {
     "name": "stdout",
     "output_type": "stream",
     "text": [
      "0\n",
      "1\n",
      "2\n",
      "3\n",
      "4\n",
      "5\n",
      "6\n",
      "7\n",
      "8\n",
      "9\n"
     ]
    }
   ],
   "source": [
    "for i in range(0,10): print(i)"
   ]
  },
  {
   "cell_type": "code",
   "execution_count": 111,
   "metadata": {},
   "outputs": [
    {
     "data": {
      "text/plain": [
       "2.0"
      ]
     },
     "execution_count": 111,
     "metadata": {},
     "output_type": "execute_result"
    }
   ],
   "source": [
    "small[1,-0]"
   ]
  },
  {
   "cell_type": "code",
   "execution_count": 134,
   "metadata": {},
   "outputs": [
    {
     "ename": "AttributeError",
     "evalue": "'int' object has no attribute 'append'",
     "output_type": "error",
     "traceback": [
      "\u001b[0;31m---------------------------------------------------------------------------\u001b[0m",
      "\u001b[0;31mAttributeError\u001b[0m                            Traceback (most recent call last)",
      "\u001b[0;32m<ipython-input-134-6a9232486a27>\u001b[0m in \u001b[0;36m<module>\u001b[0;34m()\u001b[0m\n\u001b[0;32m----> 1\u001b[0;31m \u001b[0ml\u001b[0m\u001b[0;34m.\u001b[0m\u001b[0mappend\u001b[0m\u001b[0;34m(\u001b[0m\u001b[0;36m1\u001b[0m\u001b[0;34m)\u001b[0m\u001b[0;34m\u001b[0m\u001b[0m\n\u001b[0m",
      "\u001b[0;31mAttributeError\u001b[0m: 'int' object has no attribute 'append'"
     ]
    }
   ],
   "source": [
    "l.append(1)"
   ]
  },
  {
   "cell_type": "code",
   "execution_count": null,
   "metadata": {
    "collapsed": true
   },
   "outputs": [],
   "source": []
  }
 ],
 "metadata": {
  "kernelspec": {
   "display_name": "Python 3",
   "language": "python",
   "name": "python3"
  }
 },
 "nbformat": 4,
 "nbformat_minor": 2
}
